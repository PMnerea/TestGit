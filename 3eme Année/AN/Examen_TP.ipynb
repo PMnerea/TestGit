{
 "cells": [
  {
   "cell_type": "markdown",
   "metadata": {
    "deletable": false,
    "editable": false,
    "nbgrader": {
     "checksum": "f69b905afbebeb9c353428a6a5734cde",
     "grade": false,
     "grade_id": "cell-14415748e9fbdf7e",
     "locked": true,
     "schema_version": 1,
     "solution": false
    }
   },
   "source": [
    "# Examen TP - Analyse Numérique et Optimisation"
   ]
  },
  {
   "cell_type": "markdown",
   "metadata": {
    "deletable": false,
    "editable": false,
    "nbgrader": {
     "checksum": "a4deab1da2a4112219b8e2c5f55269ac",
     "grade": false,
     "grade_id": "cell-305e076e305a0aa2",
     "locked": true,
     "schema_version": 1,
     "solution": false
    }
   },
   "source": [
    "On commence par charger les librairies usuelles de Python"
   ]
  },
  {
   "cell_type": "code",
   "execution_count": 1,
   "metadata": {
    "deletable": false,
    "editable": false,
    "nbgrader": {
     "checksum": "b422741fdea1f0a0c520400cc969fae4",
     "grade": false,
     "grade_id": "cell-94bf6c95aa2187ca",
     "locked": true,
     "schema_version": 1,
     "solution": false
    }
   },
   "outputs": [],
   "source": [
    "import numpy as np\n",
    "import matplotlib.pyplot as plt\n",
    "import numpy.linalg as npl"
   ]
  },
  {
   "cell_type": "markdown",
   "metadata": {
    "deletable": false,
    "editable": false,
    "nbgrader": {
     "checksum": "f851c8cd8ed3b304e22a65e4704cdf50",
     "grade": false,
     "grade_id": "cell-b56ec4276d7ebaf1",
     "locked": true,
     "schema_version": 1,
     "solution": false
    }
   },
   "source": [
    "## Exercice 1 : Résolution de système linéaire\n",
    "---\n",
    "\n",
    "L'objectif de cet exercice est de résoudre le système linéaire suivant\n",
    "$$\n",
    "Ax =b,\n",
    "$$\n",
    "où $x \\in \\mathbb{R}^n$ est l'inconnue, $b \\in \\mathbb{R}^n$ and $A \\in M_n(\\mathbb{R})$\n",
    "à l'aide d'une méthode de type pivot de gauss.\n",
    "\n",
    "---\n",
    "> **Implémentation:** Implémentez une fonction ```PivotGauss(M,b)``` qui applique la méthode du pivot de Gauss à la matrice `M` (tout en appliquant les mêmes opération sur le vecteur `b`). Cette fonction renvoit donc une matrice `U` triangulaire supérieure en éliminant itérativement les éléments sous diagonaux de `M` ainsi qu'un vecteur `c` correspondant au vecteur `b` modifié.\n"
   ]
  },
  {
   "cell_type": "code",
   "execution_count": 4,
   "metadata": {
    "deletable": false,
    "nbgrader": {
     "checksum": "8a75c7b03a1d42571289fcee4fb3d8e4",
     "grade": false,
     "grade_id": "cell-b9916bd130428468",
     "locked": false,
     "schema_version": 1,
     "solution": true
    }
   },
   "outputs": [],
   "source": [
    "def PivotGauss(A,b):\n",
    "    U = np.copy(A)\n",
    "    c = np.copy(b)\n",
    "    # Votre code ici\n",
    "    n = len(U)\n",
    "    for i in range(n) : \n",
    "        for j in range(i+1, n) : \n",
    "            k = U[j][i]/U[i][i]\n",
    "            U[j] = U[j]-k*U[i]\n",
    "            c[j] = c[j]-k*c[i]\n",
    "    return U,c"
   ]
  },
  {
   "cell_type": "markdown",
   "metadata": {
    "deletable": false,
    "editable": false,
    "nbgrader": {
     "checksum": "14208128ac69a8f604d600e456453052",
     "grade": false,
     "grade_id": "cell-9724f4ba3de60677",
     "locked": true,
     "schema_version": 1,
     "solution": false
    }
   },
   "source": [
    "> **Test:** Lancer les lignes de code suivantes afin de vérifier votre fonction."
   ]
  },
  {
   "cell_type": "code",
   "execution_count": 5,
   "metadata": {
    "deletable": false,
    "editable": false,
    "nbgrader": {
     "checksum": "8b541e2378fe30814dadf834c690d92f",
     "grade": true,
     "grade_id": "cell-0260dbbc60cffcd2",
     "locked": true,
     "points": 1.5,
     "schema_version": 1,
     "solution": false
    }
   },
   "outputs": [
    {
     "name": "stdout",
     "output_type": "stream",
     "text": [
      "U = [[3 0 1]\n",
      " [0 4 2]\n",
      " [0 0 1]]\n"
     ]
    }
   ],
   "source": [
    "A = np.array([[3,0,1],[9,4,5],[12,8,9]])\n",
    "b = np.array([1,3,2])\n",
    "U,c = PivotGauss(A,b)\n",
    "print(\"U =\",U)\n",
    "# Vous devez trouver\n",
    "# U = array([[3, 0, 1],\n",
    "#            [0, 4, 2],\n",
    "#            [0, 0, 1]])\n"
   ]
  },
  {
   "cell_type": "markdown",
   "metadata": {
    "deletable": false,
    "editable": false,
    "nbgrader": {
     "checksum": "f55d80b6d950fe9038249f95227e5f4a",
     "grade": false,
     "grade_id": "cell-320f5e434aacc2b7",
     "locked": true,
     "schema_version": 1,
     "solution": false
    }
   },
   "source": [
    "> **Implémentation:** Implémentez une fonction ```Remontee(U,c)``` qui applique la méthode de la remontée au système triangulaire inférieur $Ux = c$ et qui renvoit donc la solution $x$. On pourra utiliser la fonction `reversed` qui renverse l'ordre d'un itérable ou d'une liste."
   ]
  },
  {
   "cell_type": "code",
   "execution_count": 6,
   "metadata": {
    "deletable": false,
    "nbgrader": {
     "checksum": "9c9362bd1d216898e607157f6303db27",
     "grade": false,
     "grade_id": "cell-fe6cba0147c76e83",
     "locked": false,
     "schema_version": 1,
     "solution": true
    }
   },
   "outputs": [],
   "source": [
    "def Remontee(U,c):\n",
    "    # Votre code ici\n",
    "    n = len(U)\n",
    "    x = np.zeros(n, dtype=int)\n",
    "    for i in reversed(range(n)) : \n",
    "        if i == n-1 : \n",
    "            x[i] = c[i]\n",
    "        else : \n",
    "            b = np.dot(U[i][i+1:], x[i+1:])\n",
    "            x[i] = (c[i]-b)/U[i][i]\n",
    "    return x"
   ]
  },
  {
   "cell_type": "markdown",
   "metadata": {
    "deletable": false,
    "editable": false,
    "nbgrader": {
     "checksum": "034da04eb6f00b10890a70b6e421d772",
     "grade": false,
     "grade_id": "cell-35a28aa323ffa9fb",
     "locked": true,
     "schema_version": 1,
     "solution": false
    }
   },
   "source": [
    "> **Test:** Lancer les lignes de code suivantes afin de vérifier votre fonction."
   ]
  },
  {
   "cell_type": "code",
   "execution_count": 7,
   "metadata": {
    "deletable": false,
    "editable": false,
    "nbgrader": {
     "checksum": "df4cd3223c2e5d0f01194eb33ab759ba",
     "grade": true,
     "grade_id": "cell-97633e1b26d368f0",
     "locked": true,
     "points": 1,
     "schema_version": 1,
     "solution": false
    }
   },
   "outputs": [
    {
     "name": "stdout",
     "output_type": "stream",
     "text": [
      "x = [ 1  1 -2]\n"
     ]
    }
   ],
   "source": [
    "A = np.array([[3,0,1],[9,4,5],[12,8,9]])\n",
    "b = np.array([1,3,2])\n",
    "U,c = PivotGauss(A,b)\n",
    "x = Remontee(U,c)\n",
    "print('x =',x)\n",
    "# Vous devez trouver\n",
    "# x = [ 1.  1. -2.]\n"
   ]
  },
  {
   "cell_type": "markdown",
   "metadata": {
    "deletable": false,
    "editable": false,
    "nbgrader": {
     "checksum": "424337ef1207e1a4f1aaebe75a53b2eb",
     "grade": false,
     "grade_id": "cell-b26e81f58eb3bccb",
     "locked": true,
     "schema_version": 1,
     "solution": false
    }
   },
   "source": [
    "## Exercice 2 : Minimisation quadratique\n",
    "---\n",
    "Dans l'industrie, on veut souvent résoudre des systèmes linéaires du type\n",
    "$$ Au=f$$\n",
    "Pour lesquels on sait que la matrice $A$ est définie positive mais pour lesquels on n'a PAS accès à la matrice $A$.\n",
    "Un bon exemple est la résolution de l'équation de la température stationnaire d'un fil de cuivre dont les extrémités sont fixés à la température nulle. Dans l'exemple suivant, la matrice $A$ n'est pas calculée mais on donne la fonction $A()$ qui calcule le produit matrice-vecteur. Ici $n$ est le nombre de points de discrétisation le long du fil de cuivre (on peut monter jusqu'à $n$ qui vaut plusieurs millions !!). Dans la case suivante, vous n'avez rien à coder !!"
   ]
  },
  {
   "cell_type": "code",
   "execution_count": 8,
   "metadata": {
    "deletable": false,
    "editable": false,
    "nbgrader": {
     "checksum": "73b39ec4b0591fde0fdc2dcaefaba19a",
     "grade": false,
     "grade_id": "cell-5fc68215a1dfe0fe",
     "locked": true,
     "schema_version": 1,
     "solution": false
    }
   },
   "outputs": [
    {
     "data": {
      "image/png": "[encoded data removed]",
      "text/plain": [
       "<Figure size 432x288 with 1 Axes>"
      ]
     },
     "metadata": {
      "needs_background": "light"
     },
     "output_type": "display_data"
    },
    {
     "name": "stdout",
     "output_type": "stream",
     "text": [
      "9.132479144463233e-05\n"
     ]
    }
   ],
   "source": [
    "n=100000\n",
    "f=np.ones(n)\n",
    "x=np.linspace(0,1,n+2)[1:-1]\n",
    "u=np.zeros(n)\n",
    "u=5*x*(1-x)\n",
    "def A(u) :\n",
    "    v=np.zeros(n)\n",
    "    v=-2*u\n",
    "    v[1:]+=u[:-1]\n",
    "    v[:-1]+=u[1:]\n",
    "    return -0.1*(n+1)**2*v\n",
    "plt.plot(x,f,label='source de temperature')\n",
    "plt.plot(x,u,label='temperature du fil')\n",
    "plt.legend()\n",
    "plt.show()\n",
    "print(np.linalg.norm(A(u)-f))"
   ]
  },
  {
   "cell_type": "markdown",
   "metadata": {
    "deletable": false,
    "editable": false,
    "nbgrader": {
     "checksum": "ad39d2ffcc6572db97b78328bfa4eec6",
     "grade": false,
     "grade_id": "cell-a1577e7910b41721",
     "locked": true,
     "schema_version": 1,
     "solution": false
    }
   },
   "source": [
    "Dans le cas $f=1$, on connaît la solution. Dans les autres cas, il faut la faire calculer. L'objectif est donc de calculer pour $n=100000$ la solution de $Au=f$\n",
    "sachant que la seule chose que l'on sait sur $A$ est de calculer le produit $v=Au$. Pour cela on considère\n",
    "$J(u)=\\frac 1 2 (Au,u)-(f,u)$. En se souvenant du fait que $A$ est symétrique définie positive et que\n",
    "$\\nabla J =Au-f$ et que dans ce cas $J$ est strictement convexe, on veut donc minimiser $J$. Ecrire une fonction oracle qui prend en argument $u$ et qui rend $J(u)$ et $\\nabla J(u)$."
   ]
  },
  {
   "cell_type": "code",
   "execution_count": 9,
   "metadata": {
    "deletable": false,
    "nbgrader": {
     "checksum": "424eadb6297b78709b8ef6e5c577960c",
     "grade": false,
     "grade_id": "cell-aca9f4b2004125d8",
     "locked": false,
     "schema_version": 1,
     "solution": true
    }
   },
   "outputs": [],
   "source": [
    "def A(u) :\n",
    "    v=np.zeros(n)\n",
    "    v=-2*u\n",
    "    v[1:]+=u[:-1]\n",
    "    v[:-1]+=u[1:]\n",
    "    return -0.1*(n+1)**2*v\n",
    "\n",
    "def oracle(u) :\n",
    "    J=0\n",
    "    grad=np.zeros(n)\n",
    "    # Votre code ici\n",
    "    J = (1/2)*np.dot(A(u),u)-np.dot(f,u)\n",
    "    grad = A(u)-f\n",
    "    return J,grad\n"
   ]
  },
  {
   "cell_type": "code",
   "execution_count": 10,
   "metadata": {
    "deletable": false,
    "editable": false,
    "nbgrader": {
     "checksum": "6a3cea63aac46f442f4ded9ddf820afb",
     "grade": true,
     "grade_id": "cell-39ea0631555db54d",
     "locked": true,
     "points": 1,
     "schema_version": 1,
     "solution": false
    }
   },
   "outputs": [
    {
     "name": "stdout",
     "output_type": "stream",
     "text": [
      "-473.8 [ -3.8 -71.2 -11.8]\n"
     ]
    }
   ],
   "source": [
    "n=3\n",
    "f=np.array([-1.,76.,23])\n",
    "u=np.array([1.,5.,6.])\n",
    "J,grad=oracle(u)\n",
    "print(J,grad)\n",
    "# Vous devez trouver\n",
    "# -473.8  [ -3.8 -71.2 -11.8]\n"
   ]
  },
  {
   "cell_type": "markdown",
   "metadata": {
    "deletable": false,
    "editable": false,
    "nbgrader": {
     "checksum": "be4884186c86da35a9bc36f5b2d84c16",
     "grade": false,
     "grade_id": "cell-07e6a51d5ed7b0ca",
     "locked": true,
     "schema_version": 1,
     "solution": false
    }
   },
   "source": [
    "Lancez maintenant un algorithme de gradient à pas fixe sur le problème d'optimisation. Vous fixerez le pas à $1.e-2$.\n",
    "Comme critère d'arrêt, vous metterez un nombre d'itérations maximum à 1000 et vous vous arrêterez si la norme du gradient de $J$ devient plus petite que $1.e-3$. Pour chaque itération, vous devez imprimer dans cet ordre : le numéro de l'itération en cours, la valeur de J, et la norme du gradient."
   ]
  },
  {
   "cell_type": "code",
   "execution_count": 11,
   "metadata": {
    "deletable": false,
    "nbgrader": {
     "checksum": "01d906bc091ff2871a81fe83ca8f80bc",
     "grade": true,
     "grade_id": "cell-0dfca0308e99f062",
     "locked": false,
     "points": 2,
     "schema_version": 1,
     "solution": true
    }
   },
   "outputs": [
    {
     "name": "stdout",
     "output_type": "stream",
     "text": [
      "0 [-0. -0. -0. -0. -1. -0. -0. -0. -0. -0.] 1.0\n",
      "1 0.0 1.0\n",
      "2 -0.00879 0.7770752859279466\n",
      "3 -0.014319763899999999 0.6575380153800996\n",
      "4 -0.01839473099510274 0.5880688283469702\n",
      "5 -0.021711794533336038 0.543352225987615\n",
      "6 -0.02457314866060484 0.5117482367063892\n",
      "7 -0.027127663227168333 0.48775760372352345\n",
      "8 -0.029458137150226667 0.46859946063530405\n",
      "9 -0.03161556403144494 0.4527434464176781\n",
      "10 -0.03363392579829837 0.43927478743478865\n",
      "11 -0.03553723842544883 0.42760621728605436\n",
      "12 -0.03734323221163254 0.41733818798798583\n",
      "13 -0.03906543519237277 0.40818599800949357\n",
      "14 -0.040714434267078464 0.3999391776812358\n",
      "15 -0.0422986816881708 0.3924374982923869\n",
      "16 -0.04382503469069277 0.38555608343247244\n",
      "17 -0.04529913044604905 0.37919576965577995\n",
      "18 -0.0467256549934051 0.37327662970425246\n",
      "19 -0.04810854136453921 0.3677334737458619\n",
      "20 -0.04945111887808063 0.3625126294834949\n",
      "21 -0.05075622779095839 0.3575695746582924\n",
      "22 -0.052026308751179445 0.35286715416438663\n",
      "23 -0.05326347351608654 0.34837420911186195\n",
      "24 -0.05446956147490212 0.3440645036544121\n",
      "25 -0.0556461852375246 0.3399158721846613\n",
      "26 -0.0567947676837766 0.33590953314751326\n",
      "27 -0.05791657226380016 0.3320295312497568\n",
      "28 -0.059012727911412044 0.32826228026018045\n",
      "29 -0.060084249621270236 0.3245961857337346\n",
      "30 -0.061132055511048 0.3210213319938954\n",
      "31 -0.062156981017349 0.3175292212861859\n",
      "32 -0.0631597907426298 0.31411255563116147\n",
      "33 -0.06414118836884297 0.3107650538547866\n",
      "34 -0.06510182497414999 0.30748129775445493\n",
      "35 -0.06604230602639909 0.30425660250175895\n",
      "36 -0.06696319727716464 0.3010869072785105\n",
      "37 -0.06786502974010519 0.29796868285305445\n",
      "38 -0.0687483039050569 0.2948988533739513\n",
      "39 -0.06961349331301465 0.29187473011963966\n",
      "40 -0.07046104759571813 0.28889395531927914\n",
      "41 -0.07129139506599533 0.28595445446919526\n",
      "42 -0.07210494493057229 0.28305439582463093\n",
      "43 -0.07290208918514215 0.28019215595816593\n",
      "44 -0.07368320424163277 0.2773662904522935\n",
      "45 -0.07444865232944209 0.27457550894065813\n",
      "46 -0.07519878270562416 0.2718186538354675\n",
      "47 -0.0759339327033619 0.2690946821817441\n",
      "48 -0.07665442864335434 0.2664026501657263\n",
      "49 -0.07736058662881855 0.26374169987762824\n",
      "50 -0.07805271324152142 0.26111104799037055\n",
      "51 -0.07873110615351042 0.258509976067682\n",
      "52 -0.07939605466690963 0.2559378222586801\n",
      "53 -0.0800478401922193 0.25339397417297493\n",
      "54 -0.08068673667393687 0.2508778627615583\n",
      "55 -0.08131301097095836 0.2483889570551617\n",
      "56 -0.08192692319807479 0.24592675963412464\n",
      "57 -0.08252872703391667 0.2434908027227546\n",
      "58 -0.08311866999989076 0.24108064481721572\n",
      "59 -0.08369699371396877 0.2386958677695802\n",
      "60 -0.0842639341226144 0.23633607426222758\n",
      "61 -0.08481972171364727 0.23400088561655785\n",
      "62 -0.08536458171243352 0.23168993988830516\n",
      "63 -0.0858987342634454 0.22940289020878912\n",
      "64 -0.08642239459893755 0.22713940333743726\n",
      "65 -0.08693577319624105 0.2248991583960057\n",
      "66 -0.0874390759249633 0.2226818457592549\n",
      "67 -0.08793250418520485 0.22048716608051877\n",
      "68 -0.0884162550377499 0.21831482943373326\n",
      "69 -0.08889052132706042 0.21616455455616512\n",
      "70 -0.08935549179779156 0.214036068178338\n",
      "71 -0.08981135120545289 0.21192910442959514\n",
      "72 -0.09025828042175996 0.2098434043093803\n",
      "73 -0.09069645653515132 0.20777871521572294\n",
      "74 -0.09112605294688768 0.2057347905236082\n",
      "75 -0.09154723946309955 0.20371138920694146\n",
      "76 -0.091960182383106 0.201708275498681\n",
      "77 -0.09236504458428949 0.19972521858446218\n",
      "78 -0.09276198560378007 0.19776199232567518\n",
      "79 -0.09315116171717436 0.1958183750085014\n",
      "80 -0.09353272601448911 0.19389414911588124\n",
      "81 -0.09390682847353041 0.19198910111978715\n",
      "82 -0.09427361603083906 0.1901030212915199\n",
      "83 -0.09463323265035814 0.1882357035280386\n",
      "84 -0.09498581938995415 0.18638694519259158\n",
      "85 -0.09533151446591077 0.18455654696813265\n",
      "86 -0.09567045331550408 0.18274431272219308\n",
      "87 -0.09600276865775748 0.18095004938204656\n",
      "88 -0.09632859055246748 0.17917356681914012\n",
      "89 -0.09664804645758288 0.1774146777418885\n",
      "90 -0.09696126128501378 0.17567319759603287\n",
      "91 -0.09726835745494086 0.17394894447185746\n",
      "92 -0.09756945494869007 0.17224173901763631\n",
      "93 -0.09786467136023297 0.17055140435875166\n",
      "94 -0.098154121946369 0.16887776602198623\n",
      "95 -0.09843791967564164 0.16722065186454418\n",
      "96 -0.09871617527603732 0.16557989200740206\n",
      "97 -0.09898899728151297 0.16395531877263148\n",
      "98 -0.09925649207739444 0.16234676662437209\n",
      "99 -0.09951876394468609 0.16075407211316267\n",
      "100 -0.09977591510332968 0.15917707382336838\n",
      "101 -0.10002804575444763 0.15761561232346732\n",
      "102 -0.10027525412160447 0.15606953011897792\n",
      "103 -0.10051763649111817 0.1545386716078328\n",
      "104 -0.10075528725145157 0.15302288303801956\n",
      "105 -0.1009882989317121 0.15152201246732258\n",
      "106 -0.10121676223928742 0.150035909725023\n",
      "107 -0.10144076609664207 0.1485644263754117\n",
      "108 -0.10166039767730023 0.14710741568299585\n",
      "109 -0.10187574244103753 0.14566473257928136\n",
      "110 -0.10208688416830475 0.14423623363102606\n",
      "111 -0.1022939049939041 0.1428217770098647\n",
      "112 -0.10249688543993923 0.14142122246321778\n",
      "113 -0.10269590444805765 0.14003443128639814\n",
      "114 -0.10289103941100528 0.13866126629584227\n",
      "115 -0.10308236620351018 0.13730159180339105\n",
      "116 -0.10326995921251356 0.13595527359155796\n",
      "117 -0.10345389136676401 0.13462217888972117\n",
      "118 -0.10363423416579151 0.13330217635118397\n",
      "119 -0.10381105770827609 0.13199513603105054\n",
      "120 -0.10398443071982633 0.13070092936486957\n",
      "121 -0.10415442058018204 0.12941942914799748\n",
      "122 -0.10432109334985473 0.1281505095156437\n",
      "123 -0.10448451379621924 0.1268940459235526\n",
      "124 -0.10464474541906978 0.12564991512929213\n",
      "125 -0.10480185047565234 0.12441799517410947\n",
      "126 -0.10495589000518603 0.1231981653653257\n",
      "127 -0.10510692385288477 0.12199030625923768\n",
      "128 -0.10525501069349082 0.12079429964450103\n",
      "129 -0.10540020805433116 0.11961002852596737\n",
      "130 -0.10554257233790719 0.11843737710895125\n",
      "131 -0.10568215884402837 0.11727623078390638\n",
      "132 -0.10581902179150007 0.1161264761114889\n",
      "133 -0.10595321433937437 0.11498800080798549\n",
      "134 -0.10608478860777484 0.11386069373109402\n",
      "135 -0.10621379569830355 0.11274444486603365\n",
      "136 -0.10634028571403922 0.11163914531197008\n",
      "137 -0.10646430777913575 0.1105446872687428\n",
      "138 -0.10658591005802988 0.10946096402387871\n",
      "139 -0.10670513977426528 0.10838786993987737\n",
      "140 -0.10682204322894215 0.10732530044175885\n",
      "141 -0.10693666581879975 0.10627315200485912\n",
      "142 -0.10704905205393972 0.10523132214286555\n",
      "143 -0.10715924557519727 0.10419970939607831\n",
      "144 -0.10726728917116854 0.10317821331989187\n",
      "145 -0.10737322479490005 0.10216673447348566\n",
      "146 -0.10747709358024804 0.10116517440871446\n",
      "147 -0.10757893585791421 0.10017343565919364\n",
      "148 -0.10767879117116466 0.09919142172956834\n",
      "149 -0.10777669829123805 0.09821903708496194\n",
      "150 -0.10787269523245038 0.09725618714059711\n",
      "151 -0.10796681926700101 0.09630277825158036\n",
      "152 -0.10805910693948748 0.09535871770284834\n",
      "153 -0.10814959408113424 0.09442391369926861\n",
      "154 -0.10823831582374108 0.09349827535588674\n",
      "155 -0.10832530661335729 0.09258171268832117\n",
      "156 -0.10841060022368694 0.09167413660329557\n",
      "157 -0.10849422976923023 0.09077545888930554\n",
      "158 -0.1085762277181671 0.08988559220741918\n",
      "159 -0.10865662590498744 0.08900445008220167\n",
      "160 -0.10873545554287346 0.08813194689276556\n",
      "161 -0.10881274723583893 0.0872679978639394\n",
      "162 -0.10888853099063023 0.08641251905755393\n",
      "163 -0.10896283622839413 0.08556542736384146\n",
      "164 -0.1090356917961166 0.08472664049294608\n",
      "165 -0.10910712597783745 0.08389607696654088\n",
      "166 -0.10917716650564524 0.08307365610955086\n",
      "167 -0.10924584057045651 0.08225929804197743\n",
      "168 -0.1093131748325844 0.0814529236708246\n",
      "169 -0.10937919543209972 0.08065445468212107\n",
      "170 -0.10944392799898944 0.0798638135330391\n",
      "171 -0.10950739766311647 0.0790809234441064\n",
      "172 -0.10956962906398406 0.07830570839150928\n",
      "173 -0.10963064636030961 0.07753809309948592\n",
      "174 -0.109690473239411 0.07677800303280798\n",
      "175 -0.10974913292640906 0.07602536438934566\n",
      "176 -0.10980664819325049 0.0752801040927207\n",
      "177 -0.10986304136755398 0.07454214978503942\n",
      "178 -0.10991833434128359 0.07381142981970848\n",
      "179 -0.10997254857925234 0.0730878732543294\n",
      "180 -0.1100257051274598 0.07237140984367284\n",
      "181 -0.11007782462126658 0.07166197003272849\n",
      "182 -0.11012892729340915 0.07095948494983213\n",
      "183 -0.11017903298185774 0.07026388639986543\n",
      "184 -0.11022816113752111 0.06957510685753063\n",
      "185 -0.11027633083180072 0.0688930794606975\n",
      "186 -0.11032356076399688 0.06821773800381928\n",
      "187 -0.11036986926857074 0.06754901693142072\n",
      "188 -0.11041527432226424 0.06688685133165469\n",
      "189 -0.11045979355108078 0.06623117692992486\n",
      "190 -0.11050344423712996 0.06558193008257812\n",
      "191 -0.11054624332533831 0.06493904777066065\n",
      "192 -0.11058820743002908 0.06430246759373992\n",
      "193 -0.11062935284137361 0.06367212776379157\n",
      "194 -0.11066969553171667 0.06304796709914796\n",
      "195 -0.11070925116177809 0.06242992501851028\n",
      "196 -0.11074803508673385 0.06181794153502238\n",
      "197 -0.11078606236217782 0.06121195725040444\n",
      "198 -0.11082334774996752 0.06061191334914851\n",
      "199 -0.11085990572395558 0.06001775159277073\n",
      "200 -0.11089575047560944 0.05942941431412455\n",
      "201 -0.11093089591952109 0.05884684441177007\n",
      "202 -0.11096535569880973 0.058269985344402475\n",
      "203 -0.11099914319041844 0.05769878112533425\n",
      "204 -0.11103227151030774 0.05713317631703477\n",
      "205 -0.11106475351854794 0.05657311602572583\n",
      "206 -0.11109660182431166 0.056018545896029476\n",
      "207 -0.11112782879076936 0.05546941210567179\n",
      "208 -0.11115844653988902 0.05492566136023748\n",
      "209 -0.11118846695714228 0.054387240887980276\n",
      "210 -0.11121790169611866 0.05385409843468211\n",
      "211 -0.11124676218304991 0.05332618225856572\n",
      "212 -0.11127505962124576 0.05280344112525785\n",
      "213 -0.11130280499544341 0.05228582430280177\n",
      "214 -0.11133000907607202 0.051773281556720965\n",
      "215 -0.11135668242343372 0.051265763145130226\n",
      "216 -0.11138283539180377 0.050763219813897885\n",
      "217 -0.11140847813344967 0.050265602791852965\n",
      "218 -0.1114336206025729 0.04977286378604369\n",
      "219 -0.11145827255917287 0.04928495497703915\n",
      "220 -0.11148244357283602 0.04880182901428103\n",
      "221 -0.11150614302645075 0.048323439011479015\n",
      "222 -0.11152938011984997 0.04784973854205322\n",
      "223 -0.11155216387338261 0.04738068163462169\n",
      "224 -0.11157450313141509 0.04691622276853106\n",
      "225 -0.1115964065657649 0.04645631686943324\n",
      "226 -0.11161788267906712 0.046000919304905075\n",
      "227 -0.11163893980807497 0.04554998588011152\n",
      "228 -0.11165958612689633 0.045103472833511155\n",
      "229 -0.11167982965016666 0.044661336832604426\n",
      "230 -0.11169967823616059 0.044223534969724324\n",
      "231 -0.11171913958984218 0.043790024757867155\n",
      "232 -0.11173822126585639 0.043360764126567135\n",
      "233 -0.11175693067146113 0.042935711417807276\n",
      "234 -0.11177527506940335 0.04251482538197595\n",
      "235 -0.11179326158073825 0.04209806517385934\n",
      "236 -0.11181089718759334 0.04168539034867409\n",
      "237 -0.11182818873587914 0.041276760858140055\n",
      "238 -0.11184514293794673 0.04087213704659168\n",
      "239 -0.1118617663751933 0.04047147964712603\n",
      "240 -0.11187806550061724 0.04007474977779102\n",
      "241 -0.11189404664132273 0.039681908937808694\n",
      "242 -0.11190971600097623 0.03929291900383775\n",
      "243 -0.11192507966221488 0.03890774222627306\n",
      "244 -0.11194014358900709 0.03852634122557759\n",
      "245 -0.11195491362896817 0.038148678988655926\n",
      "246 -0.1119693955156303 0.03777471886525963\n",
      "247 -0.11198359487066811 0.03740442456442952\n",
      "248 -0.11199751720608099 0.03703776015097218\n",
      "249 -0.11201116792633278 0.03667469004197154\n",
      "250 -0.11202455233044985 0.03631517900333479\n",
      "251 -0.11203767561407807 0.03595919214637204\n",
      "252 -0.11205054287149949 0.035606694924408475\n",
      "253 -0.11206315909761028 0.03525765312943259\n",
      "254 -0.11207552918985932 0.034912032888774154\n",
      "255 -0.11208765795014972 0.03456980066181751\n",
      "256 -0.11209955008670248 0.03423092323674429\n",
      "257 -0.1121112102158844 0.03389536772731102\n",
      "258 -0.11212264286399999 0.03356310156965643\n",
      "259 -0.11213385246904889 0.03323409251914131\n",
      "260 -0.11214484338244779 0.032908308647217006\n"
     ]
    },
    {
     "name": "stdout",
     "output_type": "stream",
     "text": [
      "261 -0.11215561987072069 0.03258571833832906\n",
      "262 -0.11216618611715433 0.032266290286846466\n",
      "263 -0.11217654622342234 0.031949993494023735\n",
      "264 -0.11218670421117759 0.03163679726499261\n",
      "265 -0.11219666402361309 0.03132667120578235\n",
      "266 -0.11220642952699297 0.031019585220370554\n",
      "267 -0.11221600451215297 0.030715509507760683\n",
      "268 -0.11222539269597238 0.030414414559091565\n",
      "269 -0.1122345977228166 0.030116271154771713\n",
      "270 -0.11224362316595192 0.029821050361644386\n",
      "271 -0.1122524725289328 0.029528723530180132\n",
      "272 -0.11226114924696162 0.029239262291694594\n",
      "273 -0.11226965668822221 0.028952638555595978\n",
      "274 -0.11227799815518762 0.02866882450665957\n",
      "275 -0.11228617688590183 0.02838779260232734\n",
      "276 -0.11229419605523672 0.02810951557003472\n",
      "277 -0.1123020587761248 0.027833966404565088\n",
      "278 -0.11230976810076707 0.02756111836542683\n",
      "279 -0.11231732702181849 0.02729094497426012\n",
      "280 -0.1123247384735493 0.027023420012266663\n",
      "281 -0.11233200533298406 0.02675851751766401\n",
      "282 -0.11233913042101855 0.02649621178316752\n",
      "283 -0.11234611650351481 0.02623647735349433\n",
      "284 -0.11235296629237493 0.025979289022894283\n",
      "285 -0.11235968244659357 0.025724621832702514\n",
      "286 -0.1123662675732903 0.025472451068917806\n",
      "287 -0.11237272422872135 0.025222752259803343\n",
      "288 -0.11237905491927246 0.024975501173513773\n",
      "289 -0.11238526210243133 0.024730673815741153\n",
      "290 -0.11239134818774182 0.024488246427388134\n",
      "291 -0.11239731553773921 0.024248195482261144\n",
      "292 -0.11240316646886739 0.024010497684787937\n",
      "293 -0.11240890325237791 0.02377512996775591\n",
      "294 -0.11241452811521206 0.023542069490075597\n",
      "295 -0.11242004324086466 0.023311293634560793\n",
      "296 -0.11242545077023235 0.02308278000573666\n",
      "297 -0.11243075280244416 0.02285650642766433\n",
      "298 -0.11243595139567662 0.022632450941789787\n",
      "299 -0.11244104856795273 0.02241059180481297\n",
      "300 -0.11244604629792526 0.022190907486577184\n",
      "301 -0.11245094652564466 0.021973376667979373\n",
      "302 -0.11245575115331256 0.021757978238902465\n",
      "303 -0.11246046204601964 0.02154469129616482\n",
      "304 -0.11246508103247035 0.021333495141494276\n",
      "305 -0.11246960990569212 0.021124369279516646\n",
      "306 -0.11247405042373167 0.020917293415768857\n",
      "307 -0.11247840431033734 0.020712247454727647\n",
      "308 -0.11248267325562876 0.020509211497862244\n",
      "309 -0.11248685891675199 0.020308165841699595\n",
      "310 -0.1124909629185235 0.020109090975914776\n",
      "311 -0.11249498685406095 0.019911967581437883\n",
      "312 -0.112498932285401 0.019716776528576844\n",
      "313 -0.1125028007441063 0.019523498875163223\n",
      "314 -0.11250659373185963 0.019332115864712954\n",
      "315 -0.11251031272104704 0.019142608924606175\n",
      "316 -0.11251395915532945 0.018954959664285693\n",
      "317 -0.11251753445020275 0.018769149873470548\n",
      "318 -0.11252103999354765 0.018585161520390896\n",
      "319 -0.11252447714616812 0.01840297675003606\n",
      "320 -0.11252784724231983 0.01822257788242319\n",
      "321 -0.11253115159022829 0.018043947410881948\n",
      "322 -0.1125343914725961 0.017867068000353675\n",
      "323 -0.1125375681471012 0.017691922485709954\n",
      "324 -0.11254068284688548 0.017518493870088372\n",
      "325 -0.11254373678103279 0.017346765323240913\n",
      "326 -0.1125467311350386 0.01717672017990142\n",
      "327 -0.11254966707127025 0.01700834193816866\n",
      "328 -0.11255254572941817 0.016841614257905042\n",
      "329 -0.11255536822693799 0.016676520959149503\n",
      "330 -0.11255813565948489 0.016513046020549618\n",
      "331 -0.11256084910133807 0.016351173577803805\n",
      "332 -0.11256350960581891 0.016190887922125766\n",
      "333 -0.11256611820569884 0.016032173498716207\n",
      "334 -0.11256867591360051 0.015875014905254864\n",
      "335 -0.1125711837223915 0.015719396890407206\n",
      "336 -0.11257364260556861 0.01556530435234102\n",
      "337 -0.11257605351763685 0.015412722337264623\n",
      "338 -0.11257841739447941 0.015261636037973274\n",
      "339 -0.112580735153721 0.015112030792412785\n",
      "340 -0.11258300769508392 0.014963892082256397\n",
      "341 -0.11258523590073781 0.01481720553149675\n",
      "342 -0.11258742063564173 0.014671956905050205\n",
      "343 -0.11258956274787979 0.01452813210737477\n",
      "344 -0.11259166306899072 0.014385717181103614\n",
      "345 -0.11259372241429065 0.01424469830568966\n",
      "346 -0.11259574158318902 0.014105061796063387\n",
      "347 -0.11259772135949986 0.013966794101308126\n",
      "348 -0.1125996625117452 0.013829881803340858\n",
      "349 -0.11260156579345372 0.013694311615612673\n",
      "350 -0.11260343194345361 0.013560070381819302\n",
      "351 -0.11260526168615852 0.013427145074622605\n",
      "352 -0.1126070557318499 0.013295522794389166\n",
      "353 -0.11260881477695146 0.013165190767934848\n",
      "354 -0.11261053950430067 0.013036136347289038\n",
      "355 -0.11261223058341312 0.012908347008464303\n",
      "356 -0.11261388867074258 0.012781810350242588\n",
      "357 -0.11261551440993584 0.012656514092970857\n",
      "358 -0.1126171084320828 0.012532446077370654\n",
      "359 -0.11261867135596096 0.012409594263356237\n",
      "360 -0.11262020378827599 0.012287946728867696\n",
      "361 -0.11262170632389731 0.012167491668714172\n",
      "362 -0.11262317954608865 0.012048217393426382\n",
      "363 -0.11262462402673473 0.011930112328124224\n",
      "364 -0.11262604032656323 0.011813165011392327\n",
      "365 -0.11262742899536232 0.011697364094168099\n",
      "366 -0.11262879057219444 0.011582698338641178\n",
      "367 -0.11263012558560488 0.011469156617160775\n",
      "368 -0.1126314345538278 0.011356727911158326\n",
      "369 -0.11263271798498671 0.011245401310076304\n",
      "370 -0.11263397637729203 0.011135166010310383\n",
      "371 -0.11263521021923446 0.011026011314160533\n",
      "372 -0.11263641998977468 0.010917926628793626\n",
      "373 -0.11263760615852893 0.010810901465213888\n",
      "374 -0.11263876918595188 0.010704925437247294\n",
      "375 -0.11263990952351487 0.010599988260531601\n",
      "376 -0.11264102761388113 0.010496079751518523\n",
      "377 -0.11264212389107833 0.010393189826487466\n",
      "378 -0.11264319878066624 0.010291308500564698\n",
      "379 -0.1126442526999023 0.010190425886755346\n",
      "380 -0.11264528605790353 0.010090532194983402\n",
      "381 -0.11264629925580544 0.009991617731142884\n",
      "382 -0.11264729268691748 0.009893672896155023\n",
      "383 -0.11264826673687624 0.009796688185039643\n",
      "384 -0.11264922178379447 0.009700654185989364\n",
      "385 -0.11265015819840837 0.009605561579458868\n",
      "386 -0.11265107634422125 0.009511401137259269\n",
      "387 -0.11265197657764488 0.009418163721662936\n",
      "388 -0.11265285924813759 0.009325840284516888\n",
      "389 -0.11265372469833988 0.009234421866363739\n",
      "390 -0.1126545732642077 0.009143899595573416\n",
      "391 -0.11265540527514288 0.009054264687482369\n",
      "392 -0.11265622105412061 0.008965508443539605\n",
      "393 -0.11265702091781504 0.008877622250463338\n",
      "394 -0.11265780517672246 0.008790597579405946\n",
      "395 -0.11265857413528148 0.008704425985125617\n",
      "396 -0.11265932809199118 0.008619099105165492\n",
      "397 -0.11266006733952742 0.008534608659044788\n",
      "398 -0.11266079216485587 0.008450946447452909\n",
      "399 -0.11266150284934391 0.008368104351455047\n",
      "400 -0.1126621996688694 0.008286074331703312\n",
      "401 -0.11266288289392828 0.008204848427657951\n",
      "402 -0.11266355278973919 0.008124418756813589\n",
      "403 -0.11266420961634659 0.008044777513935088\n",
      "404 -0.11266485362872138 0.00796591697029834\n",
      "405 -0.11266548507686058 0.007887829472943473\n",
      "406 -0.11266610420588363 0.007810507443929138\n",
      "407 -0.11266671125612797 0.007733943379598252\n",
      "408 -0.11266730646324229 0.007658129849850547\n",
      "409 -0.11266789005827764 0.007583059497419773\n",
      "410 -0.11266846226777791 0.007508725037162202\n",
      "411 -0.11266902331386687 0.007435119255346752\n",
      "412 -0.11266957341433494 0.00736223500895686\n",
      "413 -0.11267011278272365 0.007290065224997424\n",
      "414 -0.11267064162840845 0.007218602899807058\n",
      "415 -0.11267116015668 0.007147841098379343\n",
      "416 -0.11267166856882387 0.007077772953689948\n",
      "417 -0.11267216706219871 0.007008391666029457\n",
      "418 -0.11267265583031283 0.006939690502344073\n",
      "419 -0.11267313506289932 0.006871662795582401\n",
      "420 -0.11267360494598981 0.006804301944048138\n",
      "421 -0.11267406566198644 0.00673760141075949\n",
      "422 -0.11267451738973282 0.0066715547228137426\n",
      "423 -0.11267496030458365 0.006606155470761946\n",
      "424 -0.11267539457847216 0.006541397307982863\n",
      "425 -0.11267582037997784 0.00647727395007161\n",
      "426 -0.11267623787439081 0.0064137791742254245\n",
      "427 -0.11267664722377667 0.006350906818642571\n",
      "428 -0.1126770485870394 0.006288650781924271\n",
      "429 -0.11267744211998275 0.006227005022481334\n",
      "430 -0.1126778279753707 0.006165963557947974\n",
      "431 -0.11267820630298711 0.006105520464602597\n",
      "432 -0.11267857724969357 0.0060456698767915465\n",
      "433 -0.11267894095948665 0.005986405986360953\n",
      "434 -0.11267929757355333 0.005927723042091843\n",
      "435 -0.1126796472303264 0.005869615349143108\n",
      "436 -0.11267999006553782 0.005812077268498225\n",
      "437 -0.11268032621227161 0.005755103216418853\n",
      "438 -0.11268065580101533 0.005698687663902022\n",
      "439 -0.11268097895971074 0.005642825136143388\n",
      "440 -0.11268129581380369 0.005587510212006965\n",
      "441 -0.11268160648629266 0.005532737523499017\n",
      "442 -0.1126819110977763 0.005478501755245516\n",
      "443 -0.11268220976650073 0.005424797643978319\n",
      "444 -0.11268250260840514 0.005371619978023495\n",
      "445 -0.11268278973716672 0.005318963596795442\n",
      "446 -0.11268307126424477 0.005266823390295367\n",
      "447 -0.11268334729892455 0.005215194298618238\n",
      "448 -0.11268361794835872 0.005164071311457764\n",
      "449 -0.1126838833176097 0.005113449467623035\n",
      "450 -0.11268414350969037 0.00506332385455665\n",
      "451 -0.11268439862560359 0.005013689607856546\n",
      "452 -0.112684648764382 0.0049645419108061166\n",
      "453 -0.11268489402312586 0.004915875993903982\n",
      "454 -0.11268513449704146 0.004867687134404511\n",
      "455 -0.11268537027947742 0.004819970655856595\n",
      "456 -0.11268560146196119 0.004772721927651182\n",
      "457 -0.11268582813423485 0.004725936364572421\n",
      "458 -0.11268605038428918 0.00467960942635017\n",
      "459 -0.11268626829839891 0.004633736617223678\n",
      "460 -0.11268648196115512 0.004588313485500477\n",
      "461 -0.11268669145549894 0.004543335623128606\n",
      "462 -0.11268689686275304 0.004498798665265308\n",
      "463 -0.11268709826265373 0.0044546982898556525\n",
      "464 -0.11268729573338188 0.004411030217213495\n",
      "465 -0.11268748935159274 0.004367790209603672\n",
      "466 -0.11268767919244627 0.004324974070832838\n",
      "467 -0.11268786532963619 0.00428257764584227\n",
      "468 -0.11268804783541847 0.004240596820303514\n",
      "469 -0.11268822678063918 0.00419902752021929\n",
      "470 -0.11268840223476248 0.004157865711528926\n",
      "471 -0.11268857426589735 0.004117107399716658\n",
      "472 -0.11268874294082373 0.00407674862942291\n",
      "473 -0.11268890832501915 0.004036785484062657\n",
      "474 -0.11268907048268333 0.003997214085442575\n",
      "475 -0.11268922947676381 0.003958030593387321\n",
      "476 -0.11268938536897971 0.003919231205364384\n",
      "477 -0.1126895382198464 0.003880812156117301\n",
      "478 -0.11268968808869859 0.0038427697172994826\n",
      "479 -0.11268983503371312 0.003805100197111206\n",
      "480 -0.11268997911193215 0.0037677999399428836\n",
      "481 -0.11269012037928477 0.00373086532601963\n",
      "482 -0.11269025889060924 0.0036942927710508946\n",
      "483 -0.11269039469967361 0.0036580787258807075\n",
      "484 -0.11269052785919713 0.0036222196761451463\n",
      "485 -0.11269065842087046 0.0035867121419300443\n",
      "486 -0.11269078643537599 0.003551552677434462\n",
      "487 -0.11269091195240714 0.003516737870635249\n",
      "488 -0.1126910350206878 0.0034822643429555616\n",
      "489 -0.11269115568799158 0.00344812874893941\n",
      "490 -0.1126912740011597 0.0034143277759234856\n",
      "491 -0.11269139000611984 0.0033808581437189586\n",
      "492 -0.11269150374790349 0.003347716604290775\n",
      "493 -0.1126916152706637 0.0033148999414442212\n",
      "494 -0.11269172461769202 0.003282404970510982\n",
      "495 -0.11269183183143555 0.003250228538042039\n",
      "496 -0.11269193695351308 0.0032183675214996687\n",
      "497 -0.11269204002473171 0.003186818828956786\n",
      "498 -0.1126921410851021 0.0031555793987940494\n",
      "499 -0.11269224017385475 0.0031246461994058647\n",
      "500 -0.11269233732945433 0.003094016228902971\n",
      "501 -0.11269243258961552 0.0030636865148240423\n",
      "502 -0.11269252599131678 0.003033654113844659\n",
      "503 -0.11269261757081553 0.0030039161114939835\n",
      "504 -0.11269270736366165 0.0029744696218704497\n",
      "505 -0.11269279540471151 0.0029453117873622084\n",
      "506 -0.11269288172814133 0.0029164397783691043\n",
      "507 -0.11269296636746093 0.0028878507930301446\n",
      "508 -0.11269304935552593 0.0028595420569486863\n",
      "509 -0.1126931307245512 0.0028315108229252377\n",
      "510 -0.11269321050612313 0.0028037543706903815\n",
      "511 -0.11269328873121184 0.0027762700066406645\n",
      "512 -0.11269336543018317 0.0027490550635768047\n",
      "513 -0.11269344063281073 0.002722106900446043\n",
      "514 -0.11269351436828698 0.0026954229020840605\n",
      "515 -0.11269358666523516 0.002669000478963277\n",
      "516 -0.11269365755171994 0.0026428370669398077\n",
      "517 -0.11269372705525842 0.0026169301270053107\n",
      "518 -0.11269379520283104 0.00259127714504122\n",
      "519 -0.1126938620208917 0.0025658756315732564\n",
      "520 -0.11269392753537814 0.0025407231215308565\n",
      "521 -0.11269399177172239 0.0025158171740085984\n",
      "522 -0.11269405475486 0.002491155372027608\n",
      "523 -0.11269411650924015 0.002466735322302323\n",
      "524 -0.11269417705883517 0.002442554655008066\n",
      "525 -0.11269423642714943 0.0024186110235503086\n",
      "526 -0.11269429463722902 0.002394902104337935\n",
      "527 -0.11269435171167015 0.0023714255965567505\n",
      "528 -0.11269440767262853 0.0023481792219477706\n",
      "529 -0.11269446254182734 0.0023251607245840674\n"
     ]
    },
    {
     "name": "stdout",
     "output_type": "stream",
     "text": [
      "530 -0.11269451634056606 0.002302367870653351\n",
      "531 -0.11269456908972862 0.0022797984482406997\n",
      "532 -0.11269462080979152 0.002257450267113732\n",
      "533 -0.11269467152083182 0.002235321158510576\n",
      "534 -0.1126947212425348 0.002213408974928831\n",
      "535 -0.11269476999420175 0.002191711589917377\n",
      "536 -0.11269481779475747 0.002170226897870613\n",
      "537 -0.11269486466275738 0.00214895281382256\n",
      "538 -0.11269491061639507 0.002127887273246491\n",
      "539 -0.11269495567350911 0.0021070282318532414\n",
      "540 -0.11269499985159004 0.002086373665393076\n",
      "541 -0.11269504316778717 0.002065921569459391\n",
      "542 -0.1126950856389153 0.0020456699592945114\n",
      "543 -0.11269512728146111 0.0020256168695962917\n",
      "544 -0.11269516811158965 0.002005760354328191\n",
      "545 -0.11269520814515063 0.0019860984865298905\n",
      "546 -0.11269524739768463 0.0019666293581309356\n",
      "547 -0.11269528588442884 0.0019473510797643325\n",
      "548 -0.11269532362032325 0.0019282617805843633\n",
      "549 -0.11269536062001656 0.0019093596080850708\n",
      "550 -0.11269539689787132 0.001890642727918854\n",
      "551 -0.11269543246797033 0.0018721093237214742\n",
      "552 -0.11269546734412138 0.0018537575969326495\n",
      "553 -0.1126955015398628 0.0018355857666228668\n",
      "554 -0.11269553506846904 0.001817592069321368\n",
      "555 -0.11269556794295531 0.001799774758843023\n",
      "556 -0.11269560017608311 0.0017821321061209856\n",
      "557 -0.1126956317803649 0.0017646623990376312\n",
      "558 -0.11269566276806912 0.0017473639422589907\n",
      "559 -0.11269569315122455 0.0017302350570686667\n",
      "560 -0.1126957229416257 0.0017132740812081948\n",
      "561 -0.11269575215083671 0.001696479368712054\n",
      "562 -0.11269578079019633 0.0016798492897509938\n",
      "563 -0.11269580887082178 0.001663382230471064\n",
      "564 -0.1126958364036137 0.001647076592839583\n",
      "565 -0.1126958633992599 0.0016309307944883003\n",
      "566 -0.11269588986823971 0.0016149432685607869\n",
      "567 -0.11269591582082808 0.00159911246355982\n",
      "568 -0.11269594126709938 0.0015834368431972006\n",
      "569 -0.11269596621693155 0.0015679148862442489\n",
      "570 -0.11269599068000978 0.0015525450863848266\n",
      "571 -0.11269601466583025 0.0015373259520682617\n",
      "572 -0.11269603818370401 0.0015222560063656368\n",
      "573 -0.1126960612427603 0.0015073337868255327\n",
      "574 -0.11269608385195039 0.001492557845332799\n",
      "575 -0.11269610602005077 0.001477926747967104\n",
      "576 -0.11269612775566691 0.0014634390748653541\n",
      "577 -0.11269614906723618 0.0014490934200823387\n",
      "578 -0.11269616996303153 0.0014348883914550277\n",
      "579 -0.1126961904511644 0.0014208226104673663\n",
      "580 -0.1126962105395879 0.0014068947121161312\n",
      "581 -0.11269623023610018 0.0013931033447794148\n",
      "582 -0.11269624954834723 0.0013794471700851302\n",
      "583 -0.11269626848382559 0.0013659248627793474\n",
      "584 -0.11269628704988595 0.0013525351106006775\n",
      "585 -0.11269630525373524 0.001339276614150746\n",
      "586 -0.11269632310244011 0.001326148086769362\n",
      "587 -0.11269634060292913 0.001313148254408413\n",
      "588 -0.1126963577619956 0.001300275855508658\n",
      "589 -0.11269637458630066 0.001287529640879115\n",
      "590 -0.11269639108237511 0.001274908373572258\n",
      "591 -0.11269640725662258 0.0012624108287673024\n",
      "592 -0.11269642311532176 0.0012500357936499156\n",
      "593 -0.11269643866462857 0.0012377820672937899\n",
      "594 -0.11269645391057923 0.0012256484605457168\n",
      "595 -0.11269646885909193 0.0012136337959093397\n",
      "596 -0.11269648351596959 0.0012017369074309168\n",
      "597 -0.11269649788690157 0.0011899566405851375\n",
      "598 -0.11269651197746673 0.0011782918521662299\n",
      "599 -0.1126965257931346 0.001166741410172843\n",
      "600 -0.11269653933926838 0.0011553041937016732\n",
      "601 -0.11269655262112654 0.0011439790928371172\n",
      "602 -0.11269656564386486 0.0011327650085431627\n",
      "603 -0.11269657841253845 0.0011216608525573032\n",
      "604 -0.11269659093210417 0.0011106655472859787\n",
      "605 -0.11269660320742171 0.0010997780256975\n",
      "606 -0.1126966152432564 0.0010889972312213218\n",
      "607 -0.11269662704428021 0.0010783221176431023\n",
      "608 -0.1126966386150743 0.0010677516490051218\n",
      "609 -0.11269664996013017 0.0010572847995041095\n",
      "610 -0.11269666108385179 0.0010469205533924404\n",
      "611 -0.11269667199055738 0.0010366579048804855\n",
      "612 -0.11269668268448065 0.0010264958580368478\n",
      "613 -0.11269669316977292 0.0010164334266937365\n",
      "614 -0.11269670345050437 0.0010064696343503605\n",
      "615 -0.11269671353066586 0.0009966035140778495\n"
     ]
    }
   ],
   "source": [
    "n=10\n",
    "f=np.zeros(n)\n",
    "f[4]=1.\n",
    "u=np.zeros(n)\n",
    "\n",
    "def Gradient (function,xini,h=1e-2):\n",
    "    k = 0\n",
    "    x = np.copy(xini)\n",
    "    X = [x]\n",
    "    df = function(x)[1]\n",
    "    print(k, df, np.linalg.norm(df))\n",
    "    while k<1000 and np.linalg.norm(df)>1e-3 : \n",
    "        J, df = function(x)\n",
    "        x = x-h*df\n",
    "        X = X+[x]\n",
    "        k = k+1\n",
    "        print(k, J, np.linalg.norm(df))\n",
    "    return k,x,X\n",
    "\n",
    "k,x,X = Gradient(oracle, u)\n",
    "\n",
    "# Vous devez imprimer\n",
    "#0 0.0 1.0\n",
    "#1 -0.0009879 0.975950029458476\n",
    "# ....\n",
    "#999 -0.09989200218074554 0.15846155455930575\n",
    "#1000 -0.09991709992822835 0.1583061001086834"
   ]
  },
  {
   "cell_type": "markdown",
   "metadata": {
    "deletable": false,
    "editable": false,
    "nbgrader": {
     "checksum": "4cc43df42043c95f1501c97f37b2a65d",
     "grade": false,
     "grade_id": "cell-cfa48f5735a3b94c",
     "locked": true,
     "schema_version": 1,
     "solution": false
    }
   },
   "source": [
    "Vous allez modifier l'algorithme précédent pour essayer plusieurs pas dans la liste $[1.e-3,1.e-2,2.e-2,5.e-2,6.e-2]$. Vous devez lancer l'optimisation pour chaque pas et vous devez imprimer uniquement la dernière itération."
   ]
  },
  {
   "cell_type": "code",
   "execution_count": 12,
   "metadata": {
    "deletable": false,
    "nbgrader": {
     "checksum": "d04a11c39afdd9ea08369f8c4376abb9",
     "grade": true,
     "grade_id": "cell-0887eeb918982a13",
     "locked": false,
     "points": 2,
     "schema_version": 1,
     "solution": true
    }
   },
   "outputs": [
    {
     "name": "stdout",
     "output_type": "stream",
     "text": [
      "1000 -0.09989200218074555 0.15846155455930577 \n",
      "\n",
      "615 -0.11269671353066586 0.0009966035140778495 \n",
      "\n",
      "307 -0.11269672384890184 0.0009864021740701614 \n",
      "\n",
      "1000 1.164262927225174e+271 3.322921413851652e+136 \n",
      "\n",
      "1000 inf inf \n",
      "\n"
     ]
    }
   ],
   "source": [
    "liste_pas=[1.e-3,1.e-2,2.e-2,5.e-2,6.e-2]\n",
    "n=10\n",
    "f=np.zeros(n)\n",
    "f[4]=1.\n",
    "u=np.zeros(n)\n",
    "\n",
    "# Votre code ici\n",
    "for h in liste_pas : \n",
    "    k = 0\n",
    "    x = np.copy(u)\n",
    "    X = [x]\n",
    "    df = oracle(x)[1]\n",
    "    while k<1000 and np.linalg.norm(df)>1e-3 : \n",
    "        J, df = oracle(x)\n",
    "        x = x-h*df\n",
    "        X = X+[x]\n",
    "        k = k+1\n",
    "    print(k, J, np.linalg.norm(df), \"\\n\")"
   ]
  },
  {
   "cell_type": "markdown",
   "metadata": {
    "deletable": false,
    "nbgrader": {
     "checksum": "0dee2d68f463d721773e3911a1049df6",
     "grade": true,
     "grade_id": "cell-cbb6a8f53fe7f31a",
     "locked": false,
     "points": 1,
     "schema_version": 1,
     "solution": true
    }
   },
   "source": [
    "YOUR ANSWER HERE"
   ]
  },
  {
   "cell_type": "markdown",
   "metadata": {
    "deletable": false,
    "editable": false,
    "nbgrader": {
     "checksum": "07ec08cfd65be2fc9274f6c4fe7e5ed6",
     "grade": false,
     "grade_id": "cell-bef5b075a982af58",
     "locked": true,
     "schema_version": 1,
     "solution": false
    }
   },
   "source": [
    "## Exercice 3 : Equations non-linéaires\n",
    "---\n",
    "\n",
    "L'objectif de cet exercice est de trouver numériquement les solutions d'une équation non-linéaire\n",
    "\n",
    "$$\n",
    "f(x) = 0,\n",
    "$$\n",
    "\n",
    "où $x \\in \\mathbb{R}$ est l'inconnue. On se donne la fonction $f$ suivante, définie sur $]0,+\\infty[$."
   ]
  },
  {
   "cell_type": "code",
   "execution_count": 13,
   "metadata": {
    "deletable": false,
    "editable": false,
    "nbgrader": {
     "checksum": "61b67dd4ff8c218161dab89f62c16a4e",
     "grade": false,
     "grade_id": "cell-b97c0f1b13409ed2",
     "locked": true,
     "schema_version": 1,
     "solution": false
    }
   },
   "outputs": [
    {
     "data": {
      "image/png": "[encoded data removed]",
      "text/plain": [
       "<Figure size 432x288 with 1 Axes>"
      ]
     },
     "metadata": {
      "needs_background": "light"
     },
     "output_type": "display_data"
    }
   ],
   "source": [
    "def f(x):\n",
    "    return 2*np.cos(15*x) - np.log(5*x)\n",
    "\n",
    "x = np.linspace(1,10,1000)\n",
    "plt.plot(x,f(x))\n",
    "plt.show()"
   ]
  },
  {
   "cell_type": "markdown",
   "metadata": {
    "deletable": false,
    "editable": false,
    "nbgrader": {
     "checksum": "7759b6c486a8cd60afae30e746f7a72c",
     "grade": false,
     "grade_id": "cell-3a72e58feafc8c32",
     "locked": true,
     "schema_version": 1,
     "solution": false
    }
   },
   "source": [
    "On se propose dans un premier temps de mettre en place une méthode de Newton afin d'évaluer numériquement une racine de $f$. Il faut pour cela passer par la dérivée de $f$."
   ]
  },
  {
   "cell_type": "markdown",
   "metadata": {
    "deletable": false,
    "editable": false,
    "nbgrader": {
     "checksum": "b3135bb0f379d32de669a3c980389fbe",
     "grade": false,
     "grade_id": "cell-f9b838e6bc7fb26c",
     "locked": true,
     "schema_version": 1,
     "solution": false
    }
   },
   "source": [
    "> **Implémentation:** Implémentez une fonction `fp(x)` correspondant à la dérivée de $f$."
   ]
  },
  {
   "cell_type": "code",
   "execution_count": 14,
   "metadata": {
    "deletable": false,
    "nbgrader": {
     "checksum": "416aabfd35e612f198f00bb1f8e63e59",
     "grade": true,
     "grade_id": "cell-ade24d3b8d9949d4",
     "locked": false,
     "points": 0.5,
     "schema_version": 1,
     "solution": true
    }
   },
   "outputs": [],
   "source": [
    "def fp(x):\n",
    "    # Votre code ici\n",
    "    return -30*np.sin(15*x)-(1/x)"
   ]
  },
  {
   "cell_type": "markdown",
   "metadata": {
    "deletable": false,
    "editable": false,
    "nbgrader": {
     "checksum": "9bcd0b42101df8a5262da549e9294f95",
     "grade": false,
     "grade_id": "cell-5a294897736107fc",
     "locked": true,
     "schema_version": 1,
     "solution": false
    }
   },
   "source": [
    "> **Test:** Lancer les lignes de code suivantes afin de vérifier votre fonction."
   ]
  },
  {
   "cell_type": "code",
   "execution_count": 15,
   "metadata": {
    "deletable": false,
    "editable": false,
    "nbgrader": {
     "checksum": "e42edabab6397cb3a8e657bb19f827e1",
     "grade": false,
     "grade_id": "cell-f785cab9c9567d50",
     "locked": true,
     "schema_version": 1,
     "solution": false
    }
   },
   "outputs": [
    {
     "name": "stdout",
     "output_type": "stream",
     "text": [
      "fp(5) =  11.433449062282914\n"
     ]
    }
   ],
   "source": [
    "print('fp(5) = ',fp(5))\n",
    "# Vous devez trouver\n",
    "# fp(5) =  11.433449062282914"
   ]
  },
  {
   "cell_type": "markdown",
   "metadata": {
    "deletable": false,
    "editable": false,
    "nbgrader": {
     "checksum": "24545b591e179b091ff32d0bc9e4613a",
     "grade": false,
     "grade_id": "cell-941fba28cca617f3",
     "locked": true,
     "schema_version": 1,
     "solution": false
    }
   },
   "source": [
    "> **Implémentation:** Implémentez une fonction `Newton(f,fp,x,eps)` mettant en oeuvre la méthode de Newton. On choisira comme critère d'arrêt un critère de stagnation: $|x_{n+1}-x_n|< \\varepsilon |x_{n+1}|$ et on fixera un nombre maximal d'itérations à $100$. Cette fonction renverra donc une approximation numérique d'une racine de $f$ (pour peu que l'algorithme converge)."
   ]
  },
  {
   "cell_type": "code",
   "execution_count": 16,
   "metadata": {
    "deletable": false,
    "nbgrader": {
     "checksum": "e71093f9436430c32ffb46d12d94ecfd",
     "grade": false,
     "grade_id": "cell-fc4ad70f0071d56e",
     "locked": false,
     "schema_version": 1,
     "solution": true
    }
   },
   "outputs": [],
   "source": [
    "def Newton(f,fp,x,eps):\n",
    "    # Votre code ici\n",
    "    k = 0\n",
    "    d = -f(x)/fp(x)\n",
    "    while np.abs(d)>eps*np.abs(x) and k<100: \n",
    "        d = -f(x)/fp(x)\n",
    "        x = x + d\n",
    "        k = k+1\n",
    "    return x"
   ]
  },
  {
   "cell_type": "markdown",
   "metadata": {
    "deletable": false,
    "editable": false,
    "nbgrader": {
     "checksum": "86ec6ed252d7cf41836c16992ebe8fac",
     "grade": false,
     "grade_id": "cell-e39086c3a9dbbf70",
     "locked": true,
     "schema_version": 1,
     "solution": false
    }
   },
   "source": [
    "> **Test:** Lancer les lignes de code suivantes afin de vérifier votre fonction."
   ]
  },
  {
   "cell_type": "code",
   "execution_count": 17,
   "metadata": {
    "deletable": false,
    "editable": false,
    "nbgrader": {
     "checksum": "fa3ab86514d1cbb0c35d301a2e313f52",
     "grade": true,
     "grade_id": "cell-238fa263ae74629b",
     "locked": true,
     "points": 1,
     "schema_version": 1,
     "solution": false
    }
   },
   "outputs": [
    {
     "name": "stdout",
     "output_type": "stream",
     "text": [
      "x = 0.3311512394097984\n",
      "f(x) = 2.220446049250313e-16\n"
     ]
    }
   ],
   "source": [
    "x = 1.5\n",
    "eps = 1e-10\n",
    "x = Newton(f,fp,x,eps)\n",
    "print('x =',x)\n",
    "print('f(x) =',f(x))\n",
    "# Vous devez trouver\n",
    "# x = 0.3311512394097984\n",
    "# f(x) = 2.220446049250313e-16\n"
   ]
  },
  {
   "cell_type": "markdown",
   "metadata": {
    "deletable": false,
    "editable": false,
    "nbgrader": {
     "checksum": "ada0370203ef2b64add2f97495b7037f",
     "grade": false,
     "grade_id": "cell-ad3e1f0cb6a6c7f7",
     "locked": true,
     "schema_version": 1,
     "solution": false
    }
   },
   "source": [
    "On part maintenant d'un point initial $x_0 = 14$.\n",
    "\n",
    "> **A faire:** Lancer les lignes de code suivantes."
   ]
  },
  {
   "cell_type": "code",
   "execution_count": 18,
   "metadata": {
    "deletable": false,
    "editable": false,
    "nbgrader": {
     "checksum": "6bfaf3b5d68b943cd23ed2da3ac12b87",
     "grade": false,
     "grade_id": "cell-682a464b26021fb8",
     "locked": true,
     "schema_version": 1,
     "solution": false
    }
   },
   "outputs": [
    {
     "name": "stdout",
     "output_type": "stream",
     "text": [
      "x = 14.961327701697313\n",
      "f(x) = -4.720002729634476\n"
     ]
    }
   ],
   "source": [
    "x = 14\n",
    "eps = 1e-10\n",
    "x = Newton(f,fp,x,eps)\n",
    "print('x =',x)\n",
    "print('f(x) =',f(x))"
   ]
  },
  {
   "cell_type": "markdown",
   "metadata": {
    "deletable": false,
    "editable": false,
    "nbgrader": {
     "checksum": "50324682da72509548b6b8673352b242",
     "grade": false,
     "grade_id": "cell-e9dd0da17f34bb09",
     "locked": true,
     "schema_version": 1,
     "solution": false
    }
   },
   "source": [
    "> **A faire:** Commenter le résultat dans la case suivante."
   ]
  },
  {
   "cell_type": "markdown",
   "metadata": {
    "deletable": false,
    "nbgrader": {
     "checksum": "54a93bf2e6feb642ee598d0502a0df4b",
     "grade": true,
     "grade_id": "cell-b47322721eee2d2e",
     "locked": false,
     "points": 0.5,
     "schema_version": 1,
     "solution": true
    }
   },
   "source": [
    "Votre réponse ici"
   ]
  },
  {
   "cell_type": "markdown",
   "metadata": {
    "deletable": false,
    "editable": false,
    "nbgrader": {
     "checksum": "a1a27c2b7ae4bc6d72bf0c9fc13b3dc6",
     "grade": false,
     "grade_id": "cell-11a1e00bdce29381",
     "locked": true,
     "schema_version": 1,
     "solution": false
    }
   },
   "source": [
    "On se propose à présent de combiner la méthode de Newton et la méthode de la dichotomie. Le principe est le suivant:\n",
    "- à l'initialisation, on dispose d'un intervalle $[a_0,\\ b_0]$ tel que $f(a_0)\\, f(b_0) <0$. On choisit une des bornes $a_0$ ou $b_0$ pour $x_0$ (ici on prendra $x_0 = b_0$). Puis on rentre dans une boucle sous le critère de convergence de stagnation: $|x_{n+1}-x_n|< \\varepsilon |x_{n+1}|$.\n",
    "- à partir du point $x_{n-1}$, on fait une itération de Newton puis on vérifie si le nouveau point $x_n$ n'est pas sorti de l'intervalle où est la racine. Si c'est le cas, on choisit de réinitialiser $$x_n= \\frac{a_{n-1}+b_{n-1}}2.$$\n",
    "- on calcule $f(x_n)$ et on procède par dichotomie pour localiser la racine:\n",
    "    - Si $f(a_{n-1})f(x_n)<0$ alors on pose $$ b_n = x_n \\quad\\mbox{ et }\\quad f(b_n) = f(x_n).$$\n",
    "    - Si $f(a_{n-1})f(x_n)>0$ alors on pose $$ a_n = x_n \\quad\\mbox{ et }\\quad f(a_n) = f(x_n).$$"
   ]
  },
  {
   "cell_type": "markdown",
   "metadata": {
    "deletable": false,
    "editable": false,
    "nbgrader": {
     "checksum": "e7043e30e03c160ba36fc2e516c586d3",
     "grade": false,
     "grade_id": "cell-0b479392a98ea686",
     "locked": true,
     "schema_version": 1,
     "solution": false
    }
   },
   "source": [
    "> **Implémentation:** Implémentez une fonction `Newton_Dicho(f,a,b,eps)` qui applique la méthode combinée que l'on vient de d'expliciter. L'argument `eps` correspond à la tolérance sur le critère d'arrêt. Cette fonction renverra donc l'approximation numérique d'une racine de la fonction `f` donnée en argument et qui est contenue dans l'intervalle `[a,b]`. On prendra garde à fixer un nombre maximale d'itérations à $100$."
   ]
  },
  {
   "cell_type": "code",
   "execution_count": 19,
   "metadata": {
    "deletable": false,
    "nbgrader": {
     "checksum": "703b038dab0dc6d23337f5057904b98a",
     "grade": false,
     "grade_id": "cell-1434ad746a981e1f",
     "locked": false,
     "schema_version": 1,
     "solution": true
    }
   },
   "outputs": [],
   "source": [
    "def Newton_Dicho(f,fp,a,b,eps):\n",
    "    # Votre code ici\n",
    "    k = 0\n",
    "    x = b\n",
    "    d = -f(x)/fp(x)\n",
    "    while np.abs(d)>eps*np.abs(x) and k<100: \n",
    "        d = -f(x)/fp(x)\n",
    "        x = x + d\n",
    "        if x<a or x>b :\n",
    "            x = (a+b)/2\n",
    "        else : \n",
    "            if f(a)*f(x)<0 : \n",
    "                b = x\n",
    "            else : \n",
    "                a = x\n",
    "        k = k+1\n",
    "    return x"
   ]
  },
  {
   "cell_type": "markdown",
   "metadata": {
    "deletable": false,
    "editable": false,
    "nbgrader": {
     "checksum": "2d8f9d624f841428d924b347754564d5",
     "grade": false,
     "grade_id": "cell-058d880ef0b6a61c",
     "locked": true,
     "schema_version": 1,
     "solution": false
    }
   },
   "source": [
    "> **Test:** Lancer les lignes de code suivantes afin de vérifier votre fonction."
   ]
  },
  {
   "cell_type": "code",
   "execution_count": 20,
   "metadata": {
    "deletable": false,
    "editable": false,
    "nbgrader": {
     "checksum": "b0ef7c9bf397e387a593f3de830f2c1d",
     "grade": true,
     "grade_id": "cell-341861fb947f93ae",
     "locked": true,
     "points": 1.5,
     "schema_version": 1,
     "solution": false
    }
   },
   "outputs": [
    {
     "name": "stdout",
     "output_type": "stream",
     "text": [
      "x =  0.8864942240215332\n",
      "f(x) =  0.0\n"
     ]
    }
   ],
   "source": [
    "a = 0.1\n",
    "b = 14\n",
    "eps = 1e-10\n",
    "x = Newton_Dicho(f,fp,a,b,eps)\n",
    "print(\"x = \",x)\n",
    "print(\"f(x) = \",f(x))\n",
    "# Vous devez trouver\n",
    "# x =  0.8864942240215332\n",
    "# f(x) =  0.0\n"
   ]
  },
  {
   "cell_type": "markdown",
   "metadata": {
    "deletable": false,
    "editable": false,
    "nbgrader": {
     "checksum": "1baf51e1121d1aa46ca1a611f4ea4b9f",
     "grade": false,
     "grade_id": "cell-304e1239963e0c19",
     "locked": true,
     "schema_version": 1,
     "solution": false
    }
   },
   "source": [
    "## Exercice 4 : Méthode de Newton en optimisation\n",
    "---\n",
    "Ici on va lancer une méthode de Newton pour une fonction relativement simple, donnée par\n",
    "$$f(x,y)=6e^{2x}+5e^{2y}+2e^{x+y}-8e^x-3x$$\n",
    "$$\\nabla f(x,y)=\\begin{pmatrix}12e^{2x}+2e^{x+y}-8e^x-3 \\\\ ?? \\end{pmatrix}$$\n",
    "$$H[f](x)=\\begin{pmatrix}?? & ?? \\\\ ?? & 20e^{2y}+2e^{x+y}\\end{pmatrix}$$\n",
    "Lancer une fonction oracle qui prend en argument un vecteur x de taille 2 et qui vous rend en sortie la valeur de f, $\\nabla f$ et $H[f]$ en ce point."
   ]
  },
  {
   "cell_type": "code",
   "execution_count": 21,
   "metadata": {
    "deletable": false,
    "nbgrader": {
     "checksum": "ed77cd1e3764c1e75378317c2ef1a0bd",
     "grade": false,
     "grade_id": "cell-0e87b8a9f7474258",
     "locked": false,
     "schema_version": 1,
     "solution": true
    }
   },
   "outputs": [
    {
     "name": "stdout",
     "output_type": "stream",
     "text": [
      "[633.2364254526609, 114.06163483568184]\n"
     ]
    }
   ],
   "source": [
    "x=np.array([2,1])\n",
    "def oracle(x) :\n",
    "    # Votre code ici\n",
    "    f = 6*np.exp(2*x[0])+5*np.exp(2*x[1])+2*np.exp(x[0]+x[1])-8*np.exp(x[0])-3*x[0]\n",
    "    grad = [12*np.exp(2*x[0])+2*np.exp(x[0]+x[1])-8*np.exp(x[0])-3 , 10*np.exp(2*x[1])+2*np.exp(x[0]+x[1])]\n",
    "    hess = [[24*np.exp(2*x[0])+2*np.exp(x[0]+x[1])-8*np.exp(x[0]), 2*np.exp(x[1]+x[0])], \n",
    "            [2*np.exp(x[0]+x[1]), 20*np.exp(2*x[1])+2*np.exp(x[0]+x[1])]]\n",
    "    return (f,grad,hess)\n",
    "print((oracle(x))[1])"
   ]
  },
  {
   "cell_type": "code",
   "execution_count": 22,
   "metadata": {
    "deletable": false,
    "editable": false,
    "nbgrader": {
     "checksum": "bc56b8e39a5420f29761eef613aa7255",
     "grade": true,
     "grade_id": "cell-9dbdafba25ce4767",
     "locked": true,
     "points": 2,
     "schema_version": 1,
     "solution": false
    }
   },
   "outputs": [
    {
     "name": "stdout",
     "output_type": "stream",
     "text": [
      "(339.5928057484488, [633.2364254526609, 114.06163483568184], [[1291.4142258503919, 40.171073846375336], [40.171073846375336, 187.95219582498834]])\n"
     ]
    }
   ],
   "source": [
    "print(oracle(x))\n",
    "# Vous devez trouver\n",
    "#339.59280574844882\n",
    "#array([ 633.23642545,  114.06163484])\n",
    "#array([[ 1291.41422585,    40.17107385],\n",
    "#       [   40.17107385,   187.95219582]]))\n"
   ]
  },
  {
   "cell_type": "markdown",
   "metadata": {
    "deletable": false,
    "editable": false,
    "nbgrader": {
     "checksum": "56b0cf6b55dbdf6e7c3c5e72c4cba8d9",
     "grade": false,
     "grade_id": "cell-75fc8546d52c014f",
     "locked": true,
     "schema_version": 1,
     "solution": false
    }
   },
   "source": [
    "Maintenant lancez une methode de Newton en partant du point $(0,0)$, vous ferez un nombre d'iterations maximum de 100 et vous vous arrêterez quand la norme du gradient deviendra plus petite que $1.e-12$. Vous imprimerez à chaque itération le numéro de l'itération en cours, la valeur de f et la norme du gradient."
   ]
  },
  {
   "cell_type": "code",
   "execution_count": 23,
   "metadata": {
    "deletable": false,
    "nbgrader": {
     "checksum": "d94112dc83bb27361eb9353e7e2fb678",
     "grade": true,
     "grade_id": "cell-6098afba79e709b4",
     "locked": false,
     "points": 2,
     "schema_version": 1,
     "solution": true
    }
   },
   "outputs": [
    {
     "name": "stdout",
     "output_type": "stream",
     "text": [
      "Itération 1 ; f = 0.7411268069931263 ; norme du gradient : 4.510400514825534\n",
      "Itération 2 ; f = -0.8751461882590876 ; norme du gradient : 1.7063251740905656\n",
      "Itération 3 ; f = -1.5375407059916828 ; norme du gradient : 0.6622510096491729\n",
      "Itération 4 ; f = -1.8195693690853485 ; norme du gradient : 0.2624449543973853\n",
      "Itération 5 ; f = -1.9428316988035537 ; norme du gradient : 0.10661051608536135\n",
      "Itération 6 ; f = -1.9964436993361292 ; norme du gradient : 0.044207419674260916\n",
      "Itération 7 ; f = -2.0188186959229117 ; norme du gradient : 0.018210292558804766\n",
      "Itération 8 ; f = -2.027669507154244 ; norme du gradient : 0.007226416778011034\n",
      "Itération 9 ; f = -2.031036837934403 ; norme du gradient : 0.002761071893667333\n",
      "Itération 10 ; f = -2.0322926739432656 ; norme du gradient : 0.0010320439780942897\n",
      "Itération 11 ; f = -2.032757097199894 ; norme du gradient : 0.0003820193344195922\n",
      "Itération 12 ; f = -2.0329282836791553 ; norme du gradient : 0.00014086310264868366\n",
      "Itération 13 ; f = -2.0329913052827306 ; norme du gradient : 5.1865163670924936e-05\n",
      "Itération 14 ; f = -2.033014495824689 ; norme du gradient : 1.908617319430183e-05\n",
      "Itération 15 ; f = -2.0330230279867854 ; norme du gradient : 7.022229937473599e-06\n",
      "Itération 16 ; f = -2.0330261669073244 ; norme du gradient : 2.583444942699362e-06\n",
      "Itération 17 ; f = -2.033027321667023 ; norme du gradient : 9.504112960129736e-07\n",
      "Itération 18 ; f = -2.0330277464814546 ; norme du gradient : 3.4963880842041005e-07\n",
      "Itération 19 ; f = -2.033027902762232 ; norme du gradient : 1.2862520330353388e-07\n",
      "Itération 20 ; f = -2.0330279602547545 ; norme du gradient : 4.731860721856933e-08\n",
      "Itération 21 ; f = -2.0330279814050773 ; norme du gradient : 1.7407546633486723e-08\n",
      "Itération 22 ; f = -2.0330279891858463 ; norme du gradient : 6.403880304985904e-09\n",
      "Itération 23 ; f = -2.0330279920482317 ; norme du gradient : 2.355854557498265e-09\n",
      "Itération 24 ; f = -2.033027993101245 ; norme du gradient : 8.666709138051191e-10\n",
      "Itération 25 ; f = -2.0330279934886266 ; norme du gradient : 3.1882982852350767e-10\n",
      "Itération 26 ; f = -2.033027993631136 ; norme du gradient : 1.172929246791013e-10\n",
      "Itération 27 ; f = -2.0330279936835627 ; norme du gradient : 4.3148199814407634e-11\n",
      "Itération 28 ; f = -2.03302799370285 ; norme du gradient : 1.587394691457297e-11\n",
      "Itération 29 ; f = -2.033027993709944 ; norme du gradient : 5.840791391324384e-12\n",
      "(array([ -0.06800206, -26.83808052]), [array([0, 0]), array([-0.10714286, -0.53571429]), array([-0.10363408, -1.10272022]), array([-0.08612949, -1.71324716]), array([-0.0762643 , -2.38521127]), array([-0.07116994, -3.13856179]), array([-0.06895271, -3.98127303]), array([-0.06821715, -4.89857333]), array([-0.06804026, -5.86177009]), array([-0.0680079 , -6.84701888]), array([-0.06800289, -7.84140079]), array([-0.06800218, -8.83930641]), array([-0.06800208, -9.8385321 ]), array([ -0.06800207, -10.83824673]), array([ -0.06800206, -11.83814167]), array([ -0.06800206, -12.83810302]), array([ -0.06800206, -13.83808879]), array([ -0.06800206, -14.83808356]), array([ -0.06800206, -15.83808164]), array([ -0.06800206, -16.83808093]), array([ -0.06800206, -17.83808067]), array([ -0.06800206, -18.83808057]), array([ -0.06800206, -19.83808054]), array([ -0.06800206, -20.83808052]), array([ -0.06800206, -21.83808052]), array([ -0.06800206, -22.83808052]), array([ -0.06800206, -23.83808052]), array([ -0.06800206, -24.83808052]), array([ -0.06800206, -25.83808052]), array([ -0.06800206, -26.83808052])], 29)\n"
     ]
    }
   ],
   "source": [
    "# Votre code ici\n",
    "def Newton(orc, xini):\n",
    "    k = 0\n",
    "    x_eval = xini\n",
    "    X = [x_eval]\n",
    "    df = orc(x_eval)[1]\n",
    "    Hf = orc(x_eval)[2]\n",
    "    while k<100 and np.linalg.norm(df)>10e-12 : \n",
    "        x_eval = x_eval - np.dot(np.linalg.inv(Hf), df)\n",
    "        X.append(x_eval)\n",
    "        f = orc(x_eval)[0]\n",
    "        df = orc(x_eval)[1]\n",
    "        Hf = orc(x_eval)[2]\n",
    "        k = k+1\n",
    "        print(\"Itération\", k, \"; f =\", f, \"; norme du gradient :\", np.linalg.norm(df))\n",
    "    return x_eval,X,k\n",
    "\n",
    "print(Newton(oracle, np.array([0,0])))"
   ]
  },
  {
   "cell_type": "markdown",
   "metadata": {
    "deletable": false,
    "editable": false,
    "nbgrader": {
     "checksum": "c293fd8e2e8542986057e9ced8d55982",
     "grade": false,
     "grade_id": "cell-f1c725893a53b547",
     "locked": true,
     "schema_version": 1,
     "solution": false
    }
   },
   "source": [
    "## Exercice 5 : Interpolation polynomiale\n",
    "---\n",
    "\n",
    "L'objectif de cet exercice est d'identifier une approximation, sous forme de polynômes, d'une fonction $f$. Ici, nous allons considérer la fonction \n",
    "\n",
    "$$f(x) = \\frac{1}{1+x^2},$$\n",
    "\n",
    "pour tout $x\\in\\mathbb{R}$. "
   ]
  },
  {
   "cell_type": "code",
   "execution_count": 24,
   "metadata": {
    "deletable": false,
    "editable": false,
    "nbgrader": {
     "checksum": "26a5bfb1bd5ce38097368582b3eda1e4",
     "grade": false,
     "grade_id": "cell-5c0194b51d3509bc",
     "locked": true,
     "schema_version": 1,
     "solution": false
    }
   },
   "outputs": [],
   "source": [
    "def f(x):\n",
    "    return 1/(1+x**2)"
   ]
  },
  {
   "cell_type": "markdown",
   "metadata": {
    "deletable": false,
    "editable": false,
    "nbgrader": {
     "checksum": "31434147a3a9cf99d1cfb40773a5fbd1",
     "grade": false,
     "grade_id": "cell-b8284a2cb8277394",
     "locked": true,
     "schema_version": 1,
     "solution": false
    }
   },
   "source": [
    "On rappelle que, étant donné un ensemble $D = \\{(x_i,y_i )_{0\\leq i\\leq n}\\}$ de $n$ points dans le plan $\\mathbb{R}^2$, il existe un unique polynôme d'interpolation $p$ de degré $n$ qui vérifie\n",
    "\n",
    "$$\n",
    "p(x_i) = y_i,\\quad 0\\leq i\\leq n.\n",
    "$$\n",
    "\n",
    "On choisit ici de considérer le cas $y_i = f(x_i)$ afin d'approcher la fonction $f$ par le polynôme $p$. Le but de l'exercice est ici de chercher à approximer $f$ par des polynômes de degré 3 sur des intervalles donnés."
   ]
  },
  {
   "cell_type": "markdown",
   "metadata": {
    "deletable": false,
    "editable": false,
    "nbgrader": {
     "checksum": "6a16edb4ac288dd58c67d728d3490b56",
     "grade": false,
     "grade_id": "cell-1424900a64c52831",
     "locked": true,
     "schema_version": 1,
     "solution": false
    }
   },
   "source": [
    "> **Implémentation:** Implémentez une fonction `Interp(f,x_interp)` qui calcule les coefficients du polynôme qui interpole $f$ aux points d'abscisses $x_{interp}$. Cette fonction renvoit donc une liste dans laquelle sont stockés les coefficients du polynôme. On choisira une liste commencant par le coefficient constant et terminant par le coefficient associé au monôme de plus haut degré."
   ]
  },
  {
   "cell_type": "code",
   "execution_count": 25,
   "metadata": {
    "deletable": false,
    "nbgrader": {
     "checksum": "d7744f40855966b7bf7b9b2ad4621e5d",
     "grade": false,
     "grade_id": "cell-a0c33b4b21c2e749",
     "locked": false,
     "schema_version": 1,
     "solution": true
    }
   },
   "outputs": [],
   "source": [
    "def Interp(f,x_interp):\n",
    "    # Votre code ici\n",
    "    y = f(x_interp)\n",
    "    n = len(x_interp)\n",
    "    M = np.zeros((n, n))\n",
    "    for i in range(n) : \n",
    "        M[:,i] = x_interp**i\n",
    "    c = np.linalg.solve(M, y)\n",
    "    return c"
   ]
  },
  {
   "cell_type": "markdown",
   "metadata": {
    "deletable": false,
    "editable": false,
    "nbgrader": {
     "checksum": "7d45f1930ddec3e3a772f45b96453ae4",
     "grade": false,
     "grade_id": "cell-c6dca3860250bebe",
     "locked": true,
     "schema_version": 1,
     "solution": false
    }
   },
   "source": [
    "> **Test:** Lancer les lignes de code suivantes afin de vérifier votre fonction."
   ]
  },
  {
   "cell_type": "code",
   "execution_count": 26,
   "metadata": {
    "deletable": false,
    "editable": false,
    "nbgrader": {
     "checksum": "988f7ff5edbefaeb33d37f4c44c54387",
     "grade": true,
     "grade_id": "cell-d9a07e39a5d31faf",
     "locked": true,
     "points": 1,
     "schema_version": 1,
     "solution": false
    }
   },
   "outputs": [
    {
     "name": "stdout",
     "output_type": "stream",
     "text": [
      "c =  [ 1.00000000e+00  1.87350135e-17 -6.40000000e-01  1.33226763e-16\n",
      "  1.50000000e-01 -1.50342701e-17 -1.00000000e-02]\n"
     ]
    }
   ],
   "source": [
    "x_interp = np.linspace(-3,3,7)\n",
    "c = Interp(f,x_interp)\n",
    "print(\"c = \",c)\n",
    "# Vous devez trouver\n",
    "# c =  [ 1.00000000e+00 -5.86405924e-16 -6.40000000e-01  1.79856130e-16\n",
    "#  1.50000000e-01 -1.27444351e-17 -1.00000000e-02]\n"
   ]
  },
  {
   "cell_type": "markdown",
   "metadata": {
    "deletable": false,
    "editable": false,
    "nbgrader": {
     "checksum": "0b328b9fa4d04454761d10461bb39636",
     "grade": false,
     "grade_id": "cell-e42e84ba47dfd4a0",
     "locked": true,
     "schema_version": 1,
     "solution": false
    }
   },
   "source": [
    "> **Implémentation:** Implémentez une fonction `PolyEval(x,c)` qui évalue le polynôme $p$ dont les coefficients sont stockés dans `c` aux points `x`. Cette fonction renvoit donc un vecteur de même nature que `x`."
   ]
  },
  {
   "cell_type": "code",
   "execution_count": 27,
   "metadata": {
    "deletable": false,
    "nbgrader": {
     "checksum": "58af676a1d665c844138d9dcbbcb5880",
     "grade": false,
     "grade_id": "cell-d7c41e2f1c1db9fd",
     "locked": false,
     "schema_version": 1,
     "solution": true
    }
   },
   "outputs": [],
   "source": [
    "# Votre code ici\n",
    "def PolyEval(x,c) :\n",
    "    p_x = np.zeros(len(x))\n",
    "    n = len(c)\n",
    "    for i in range(len(x)) : \n",
    "        for k in range(n) : \n",
    "            p_x[i] = p_x[i] + c[k]*(x[i]**k)\n",
    "    return p_x"
   ]
  },
  {
   "cell_type": "markdown",
   "metadata": {
    "deletable": false,
    "editable": false,
    "nbgrader": {
     "checksum": "291c4562ce9457d0d50005f2c4b4004c",
     "grade": false,
     "grade_id": "cell-e21fad4031068d80",
     "locked": true,
     "schema_version": 1,
     "solution": false
    }
   },
   "source": [
    "> **Test:** Lancer les lignes de code suivantes afin de vérifier votre fonction."
   ]
  },
  {
   "cell_type": "code",
   "execution_count": 28,
   "metadata": {
    "deletable": false,
    "editable": false,
    "nbgrader": {
     "checksum": "b6c6c24740e13c419a5d4f82e3764e5c",
     "grade": true,
     "grade_id": "cell-ef38e661216d45af",
     "locked": true,
     "points": 0.5,
     "schema_version": 1,
     "solution": false
    }
   },
   "outputs": [
    {
     "name": "stdout",
     "output_type": "stream",
     "text": [
      "p =  [ -11.8  -77.5 -294.2 -846.7]\n"
     ]
    }
   ],
   "source": [
    "x_interp = np.linspace(-3,3,7)\n",
    "x = np.linspace(4,7,4)\n",
    "c = Interp(f,x_interp)\n",
    "p = PolyEval(x,c)\n",
    "print(\"p = \",p)\n",
    "# Vous devez trouver\n",
    "# p =  [ -11.8  -77.5 -294.2 -846.7]\n"
   ]
  },
  {
   "cell_type": "markdown",
   "metadata": {
    "deletable": false,
    "editable": false,
    "nbgrader": {
     "checksum": "cdbc73b0adf22830cb2bda4fd42bd277",
     "grade": false,
     "grade_id": "cell-86f64f5dfc46439b",
     "locked": true,
     "schema_version": 1,
     "solution": false
    }
   },
   "source": [
    "On trace à présent des polynômes d'interpolation de $f$ pour différents ensembles de points d'interpolation dans l'intervalle $[-3,3]$.\n",
    "\n",
    "> **A faire:** Lancer les lignes de code suivantes."
   ]
  },
  {
   "cell_type": "code",
   "execution_count": 29,
   "metadata": {
    "deletable": false,
    "editable": false,
    "nbgrader": {
     "checksum": "473a7043ea26a8832b1f1c1b58de2bcd",
     "grade": false,
     "grade_id": "cell-635002b8161580a2",
     "locked": true,
     "schema_version": 1,
     "solution": false
    }
   },
   "outputs": [
    {
     "data": {
      "image/png": "[encoded data removed]",
      "text/plain": [
       "<Figure size 432x288 with 1 Axes>"
      ]
     },
     "metadata": {
      "needs_background": "light"
     },
     "output_type": "display_data"
    }
   ],
   "source": [
    "x = np.linspace(-3,3,1000)\n",
    "plt.plot(x,f(x),label='Fonction f')\n",
    "n = [3,5,8,10,13]\n",
    "for m in n:\n",
    "    x_interp = np.linspace(-3,3,m)\n",
    "    c = Interp(f,x_interp)\n",
    "    p = PolyEval(x,c)\n",
    "    plt.plot(x,p,label='Polynôme de degré '+str(m))\n",
    "plt.legend()\n",
    "plt.show()"
   ]
  },
  {
   "cell_type": "markdown",
   "metadata": {
    "deletable": false,
    "editable": false,
    "nbgrader": {
     "checksum": "b7ad0d1187f0319b9cd2a2a66ac03999",
     "grade": false,
     "grade_id": "cell-e9dd0da17f34bb0f",
     "locked": true,
     "schema_version": 1,
     "solution": false
    }
   },
   "source": [
    "> **A faire:** Commenter le résultat dans la case suivante."
   ]
  },
  {
   "cell_type": "markdown",
   "metadata": {
    "deletable": false,
    "nbgrader": {
     "checksum": "8196e50bad06ae0ab41c6add7744719a",
     "grade": true,
     "grade_id": "cell-b47322721efe2d2e",
     "locked": false,
     "points": 0.5,
     "schema_version": 1,
     "solution": true
    }
   },
   "source": [
    "YOUR ANSWER HERE"
   ]
  },
  {
   "cell_type": "markdown",
   "metadata": {
    "deletable": false,
    "editable": false,
    "nbgrader": {
     "checksum": "20b5c451c4473797e0856e57c5d04934",
     "grade": false,
     "grade_id": "cell-3c1c8b6bf753b426",
     "locked": true,
     "schema_version": 1,
     "solution": false
    }
   },
   "source": [
    "On souhaite à présent interpoler la fonction $f$ à l'aide de polynômes de degré $3$ sur des sous-intervalles disjoints de $[-3,3]$. Pour cela, on fournit la fonction `Linspace_interp` qui, étant donné un ensemble de points d'interpolation en abscisse et un entier `n`, va rendre une liste `X` qui contient des vecteurs de points. Ces vecteurs sont en fait des points qui sont situés entre chaque couple successif de points d'interpolation. La somme totale des longueurs de chaque vecteur de `X` est égale à `n` et ces vecteurs sont de tailles quasiment égales."
   ]
  },
  {
   "cell_type": "code",
   "execution_count": 30,
   "metadata": {
    "deletable": false,
    "editable": false,
    "nbgrader": {
     "checksum": "31b670d74c500175255186bdbbb7beee",
     "grade": false,
     "grade_id": "cell-c9f38f1bd7b3cfea",
     "locked": true,
     "schema_version": 1,
     "solution": false
    }
   },
   "outputs": [],
   "source": [
    "def Linspace_interp(x_interp,n):\n",
    "    m = len(x_interp)-1\n",
    "    n_m = int((n-1)/m)\n",
    "    r = n-n_m*m\n",
    "    X = []\n",
    "    for i in range(m-1):\n",
    "        h = (x_interp[i+1]-x_interp[i])/(n_m-1)\n",
    "        X += [np.linspace(x_interp[i],x_interp[i+1]-h,n_m)]\n",
    "    X += [np.linspace(x_interp[-2],x_interp[-1],n_m+r)]\n",
    "    return X"
   ]
  },
  {
   "cell_type": "markdown",
   "metadata": {
    "deletable": false,
    "editable": false,
    "nbgrader": {
     "checksum": "2deb0a42b90d57bb56224ed324777218",
     "grade": false,
     "grade_id": "cell-1a321aec9d825f7b",
     "locked": true,
     "schema_version": 1,
     "solution": false
    }
   },
   "source": [
    "Afin d'illustrer l'utilisation de la fonction `Linspace_inter`, on trace la fonction $f$ sur $9$ sous-intervalles uniformes entre $-3$ et $3$ avec $1000$ points au total. On associe un colori différent en fonction du sous-intervalle."
   ]
  },
  {
   "cell_type": "code",
   "execution_count": 31,
   "metadata": {
    "deletable": false,
    "editable": false,
    "nbgrader": {
     "checksum": "b72a3916f66ebe4374c88bfef77c0447",
     "grade": false,
     "grade_id": "cell-2f0e3955c337dfce",
     "locked": true,
     "schema_version": 1,
     "solution": false
    }
   },
   "outputs": [
    {
     "data": {
      "image/png": "[encoded data removed]",
      "text/plain": [
       "<Figure size 432x288 with 1 Axes>"
      ]
     },
     "metadata": {
      "needs_background": "light"
     },
     "output_type": "display_data"
    }
   ],
   "source": [
    "x_interp = np.linspace(-3,3,10)\n",
    "X = Linspace_interp(x_interp,1000)\n",
    "for x in X:\n",
    "    plt.plot(x,f(x))"
   ]
  },
  {
   "cell_type": "markdown",
   "metadata": {
    "deletable": false,
    "editable": false,
    "nbgrader": {
     "checksum": "bff81999291de135d89286aa3336f9e0",
     "grade": false,
     "grade_id": "cell-c05b9b7931e845c1",
     "locked": true,
     "schema_version": 1,
     "solution": false
    }
   },
   "source": [
    "> **Implémentation:** Implémentez une fonction `Cubic(f,a,b)` qui calcule les coefficients du polynôme de degré $3$ qui interpole $f$ aux points d'abscisses $\\{a,(a+b)/2,b\\}$. Cette fonction renvoit donc une liste dans laquelle sont stockés les coefficients du polynôme. On choisira une liste commencant par le coefficient constant et terminant par le coefficient associé au monôme de plus haut degré."
   ]
  },
  {
   "cell_type": "code",
   "execution_count": 32,
   "metadata": {
    "deletable": false,
    "nbgrader": {
     "checksum": "4c023369eeb11d5408c9d9ac6826e3c5",
     "grade": false,
     "grade_id": "cell-96356496c8f7b99c",
     "locked": false,
     "schema_version": 1,
     "solution": true
    }
   },
   "outputs": [],
   "source": [
    "def Cubic(f,a,b):\n",
    "    # Votre code ici\n",
    "    x = np.array([a, (a+b)/2, b])\n",
    "    y = f(x)\n",
    "    n = 3\n",
    "    M = np.zeros((n, n))\n",
    "    for i in range(n) : \n",
    "        M[:,i] = x**i\n",
    "    c = np.linalg.solve(M, y)\n",
    "    return c"
   ]
  },
  {
   "cell_type": "markdown",
   "metadata": {
    "deletable": false,
    "editable": false,
    "nbgrader": {
     "checksum": "0349264014b06ca7d50b9f8b1f384046",
     "grade": false,
     "grade_id": "cell-b0b5bae0ea9ab871",
     "locked": true,
     "schema_version": 1,
     "solution": false
    }
   },
   "source": [
    "> **Test:** Lancer les lignes de code suivantes afin de vérifier votre fonction."
   ]
  },
  {
   "cell_type": "code",
   "execution_count": 33,
   "metadata": {
    "deletable": false,
    "editable": false,
    "nbgrader": {
     "checksum": "c1795c0c6f71c8010abcf8dc38530917",
     "grade": true,
     "grade_id": "cell-8d523bdf8128c301",
     "locked": true,
     "points": 0.5,
     "schema_version": 1,
     "solution": false
    }
   },
   "outputs": [
    {
     "name": "stdout",
     "output_type": "stream",
     "text": [
      "c =  [ 1.  -0.3 -0.2]\n"
     ]
    }
   ],
   "source": [
    "a = 0\n",
    "b = 1\n",
    "c = Cubic(f,a,b)\n",
    "print(\"c = \",c)\n",
    "# Vous devez trouver\n",
    "# c =  [ 1.  -0.3 -0.2]\n"
   ]
  },
  {
   "cell_type": "markdown",
   "metadata": {
    "deletable": false,
    "editable": false,
    "nbgrader": {
     "checksum": "4ff092f7ebdd7a39c9f7f69f8cb1862a",
     "grade": false,
     "grade_id": "cell-7717753901030cb9",
     "locked": true,
     "schema_version": 1,
     "solution": false
    }
   },
   "source": [
    "> **Implémentation:** Implémentez une fonction `Spline(f,x_interp,n)` qui va approximer la fonction `f` entre les points d'interpolation `x_interp` par des polynômes de degré $3$. Cette fonction va effectuer une interpolation de `f` entre chaque couple successif de `x_interp` par un polynôme de degré $3$. Elle renverra un vecteur de taille `n` qui sera constitué de l'évaluation de chacun des polynômes dans leurs intervalles respectifs. On pourra utiliser la fonction `np.concatenate((x1,x2),axis = 0)` qui concatene les vecteur `x1` et `x2` selon l'axe des lignes."
   ]
  },
  {
   "cell_type": "code",
   "execution_count": 34,
   "metadata": {
    "deletable": false,
    "nbgrader": {
     "checksum": "9365a7fae117ea0d4a348032b5de3ff1",
     "grade": false,
     "grade_id": "cell-eb66217fca74cb80",
     "locked": false,
     "schema_version": 1,
     "solution": true
    }
   },
   "outputs": [],
   "source": [
    "def Spline(f,x_interp,n):\n",
    "    # Votre code ici\n",
    "    res =np.array([])\n",
    "    X = Linspace_interp(x_interp,1000)\n",
    "    for vect in X:\n",
    "        c=Cubic(f,vect[0],vect[-1])\n",
    "        res=np.concatenate((res,(PolyEval(vect,c))))\n",
    "    return res"
   ]
  },
  {
   "cell_type": "markdown",
   "metadata": {
    "deletable": false,
    "editable": false,
    "nbgrader": {
     "checksum": "d8cdfbd3e8d75c409847c12ca10aee01",
     "grade": false,
     "grade_id": "cell-efaa9102fbbbd886",
     "locked": true,
     "schema_version": 1,
     "solution": false
    }
   },
   "source": [
    "On trace à présent le résultat de cette interpolation ci-dessous.\n",
    "\n",
    "> **A faire:** Lancer les lignes de code suivantes."
   ]
  },
  {
   "cell_type": "code",
   "execution_count": 35,
   "metadata": {
    "deletable": false,
    "editable": false,
    "nbgrader": {
     "checksum": "6ee6752bbe1a20b5ea45f2ffb23ce388",
     "grade": false,
     "grade_id": "cell-6e425b65dabd0468",
     "locked": true,
     "schema_version": 1,
     "solution": false
    }
   },
   "outputs": [
    {
     "data": {
      "image/png": "[encoded data removed]",
      "text/plain": [
       "<Figure size 432x288 with 1 Axes>"
      ]
     },
     "metadata": {
      "needs_background": "light"
     },
     "output_type": "display_data"
    }
   ],
   "source": [
    "x_interp = np.linspace(-3,3,10)\n",
    "x = np.linspace(-3,3,1000)\n",
    "y = Spline(f,x_interp,1000)\n",
    "plt.plot(x,y,label = 'Interpolation par morceaux')\n",
    "plt.plot(x,f(x),label = 'Fonction f')\n",
    "plt.legend()\n",
    "plt.show()"
   ]
  },
  {
   "cell_type": "markdown",
   "metadata": {
    "deletable": false,
    "editable": false,
    "nbgrader": {
     "checksum": "e76fb5cf0c6ecaa6fa9b00e4a4de4833",
     "grade": false,
     "grade_id": "cell-e9dd0da17f34b20f",
     "locked": true,
     "schema_version": 1,
     "solution": false
    }
   },
   "source": [
    "> **A faire:** Commenter le résultat dans la case suivante."
   ]
  },
  {
   "cell_type": "markdown",
   "metadata": {
    "deletable": false,
    "nbgrader": {
     "checksum": "0955beb7406461d05d062c7cbed5ff7b",
     "grade": true,
     "grade_id": "cell-b47322723efe2d2e",
     "locked": false,
     "points": 1.5,
     "schema_version": 1,
     "solution": true
    }
   },
   "source": [
    "Votre réponse ici"
   ]
  }
 ],
 "metadata": {
  "kernelspec": {
   "display_name": "Python 3",
   "language": "python",
   "name": "python3"
  },
  "language_info": {
   "codemirror_mode": {
    "name": "ipython",
    "version": 3
   },
   "file_extension": ".py",
   "mimetype": "text/x-python",
   "name": "python",
   "nbconvert_exporter": "python",
   "pygments_lexer": "ipython3",
   "version": "3.7.4"
  }
 },
 "nbformat": 4,
 "nbformat_minor": 1
}
