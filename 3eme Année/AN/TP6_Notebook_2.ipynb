{
 "cells": [
  {
   "cell_type": "markdown",
   "metadata": {},
   "source": [
    "# Factorisation LU"
   ]
  },
  {
   "cell_type": "markdown",
   "metadata": {},
   "source": [
    "Mettez ci-dessous les imports classiques de librairie Python"
   ]
  },
  {
   "cell_type": "code",
   "execution_count": 1,
   "metadata": {},
   "outputs": [],
   "source": [
    "%matplotlib inline\n",
    "import numpy as np\n",
    "import numpy.linalg as npl\n",
    "import matplotlib.pyplot as plt\n",
    "\n",
    "M = np.load('TP6_Matrice.npy')"
   ]
  },
  {
   "cell_type": "markdown",
   "metadata": {},
   "source": [
    "Le but de ce TP est d'implémenter la factorisation LU, avec et sans permutations, et de tester ces méthodes pour résoudre un système linéaire. Dans cette dernière partie, on implémentera un algorithme de résolution de systèmes triangulaires."
   ]
  },
  {
   "cell_type": "markdown",
   "metadata": {},
   "source": [
    "## 1) Algorithme de factorisation LU standard"
   ]
  },
  {
   "cell_type": "markdown",
   "metadata": {},
   "source": [
    "On se propose tout d'abord d'implémenter un code de factorisation LU qui prendra en entrée une matrice $A$ carré de taille quelconque et qui donnera en sortie le couple de matrice L et U correspondant à la factorisation LU de la matrice A. On rappelle que la factorisation LU s'obtient à partir de la méthode de pivot de Gauss. Plus précisément, la factorisation LU peut se résumer à l'algorithme suivant\n",
    "\n",
    "$$\n",
    "A^{(0)} = A\\in M_n(\\mathbb{R}),\\\\\n",
    "L^{(0)} = 0 \\in M_n(\\mathbb{R}),\\\\\n",
    "\\textrm{Pour}\\; k = 0,1,2,\\cdots,n-1:\\;\n",
    "\\left\\{\\begin{array}{ll}\n",
    "\\ell^{(k)} = \\left\\{\\begin{array}{ll}\n",
    "0,\\;\\textrm{pour}\\;1\\leq i\\leq k-1,\\\\\n",
    "\\frac{a_{i,k}^{(k)}}{a_{k,k}^{(k)}},\\;\\textrm{pour}\\;k\\leq i\\leq n,\n",
    "\\end{array}\\right.\\\\\n",
    "L^{(k+1)}_{i,j} = \\left\\{\\begin{array}{ll}\n",
    "\\ell^{(k)}_i,\\; \\textrm{pour}\\; j = k\\;\\textrm{et}\\; k\\leq i\\leq n,\n",
    "\\\\ L^{(k)}_{i,j}\\; \\textrm{sinon},\n",
    "\\end{array}\\right.\\\\\n",
    "B^{(k)}_{i,j} = \\left\\{\\begin{array}{ll}\n",
    "\\ell^{(k)}_{i} a^{(k)}_{k,j},\\; \\textrm{pour}\\; k+1\\leq i\\leq n \\;\\textrm{et}\\; k\\leq j\\leq n,\n",
    "\\\\ 0\\; \\textrm{sinon},\n",
    "\\end{array}\\right.,\\\\\n",
    "A^{(k+1)} = A^{(k)} - B^{(k)},\\\\\n",
    "\\end{array}\\right.\n",
    "$$\n",
    "\n",
    "où\n",
    "- $\\ell^{(k)}$ est un vecteur de $\\mathbb{R}^n$,\n",
    "- $A^{(k)}$ est une matrice de $M_n(\\mathbb{R})$ dont on note les coefficients $(a^{(k)}_{i,j})_{1\\leq i,j\\leq n}$.\n",
    "\n",
    "A la fin de cette algorithme, on obtient $L = L^{(n-1)}$ et $U = A^{(n-1)}$."
   ]
  },
  {
   "cell_type": "markdown",
   "metadata": {},
   "source": [
    "> **A faire :** Implémenter la fonction `LU` qui permet de calculer la factorisation LU d'une matrice $A$ carré de dimension quelconque à partir de l'algorithme précédent. On prendra soin de vérifier si le pivot est non-nul et, dans le cas contraire, on renverra une erreur à l'utilisateur. On pourra tester la fonction sur la matrice\n",
    "$$\n",
    "A = \\left(\\begin{array}{ccc}\n",
    "2 & 1 & 1 \\\\\n",
    "6 & 2 & 1 \\\\\n",
    "-2 & 2 & 1\n",
    "\\end{array}\\right),\n",
    "$$\n",
    "dont la décomposition LU est donnée par\n",
    "$$\n",
    "L = \\left(\\begin{array}{ccc}\n",
    "1 & 0 & 0 \\\\\n",
    "3 & 1 & 0 \\\\\n",
    "-1 & -3 & 1\n",
    "\\end{array}\\right)\\quad\\textrm{et}\\quad U = \\left(\\begin{array}{ccc}\n",
    "2 & 1 & 1 \\\\\n",
    "0 & -1 & -2 \\\\\n",
    "0 & 0 & -4\n",
    "\\end{array}\\right).\n",
    "$$"
   ]
  },
  {
   "cell_type": "code",
   "execution_count": 3,
   "metadata": {},
   "outputs": [],
   "source": [
    "\"\"\"\n",
    "AUTRE METHODE : Marche pas avec toutes les matrices\n",
    "def LU(A):\n",
    "    U = np.copy(A)\n",
    "    L = np.identity(len(A),dtype=int)\n",
    "    for i in range(len(U)) : \n",
    "        for j in range(i+1, len(U)):\n",
    "            k = U[j][i]/U[i][i]\n",
    "            U[j]=U[j]-k*U[i]\n",
    "            L[j][i]=k\n",
    "    return L,U\n",
    "\"\"\"\n",
    "\n",
    "def LU(A):\n",
    "    n=len(A)\n",
    "    L=np.zeros((n,n))\n",
    "    U=np.copy(A)\n",
    "    for k in range(0,n):\n",
    "        if U[k][k]==0:\n",
    "            raise Exception(\"PivotNul\")\n",
    "        l=np.zeros(n)\n",
    "        #for i in range(k,n):\n",
    "        #    l[i]=U[i][k]/U[k][k]\n",
    "        l[k:]=U[k:,k]/U[k,k]\n",
    "        L[k:,k] = l[k:]\n",
    "        B=np.zeros((n,n))\n",
    "        for p in range(k,n):\n",
    "            for i2 in range(k+1,n):\n",
    "                B[i2][p]=l[i2]*U[k][p]\n",
    "        U=U-B\n",
    "    return L,U"
   ]
  },
  {
   "cell_type": "code",
   "execution_count": 4,
   "metadata": {},
   "outputs": [
    {
     "name": "stdout",
     "output_type": "stream",
     "text": [
      "L= [[ 1.  0.  0.]\n",
      " [ 3.  1.  0.]\n",
      " [-1. -3.  1.]]\n",
      "U= [[ 2.  1.  1.]\n",
      " [ 0. -1. -2.]\n",
      " [ 0.  0. -4.]]\n"
     ]
    }
   ],
   "source": [
    "A = np.array([[2,1,1],[6,2,1],[-2,2,1]])\n",
    "#Donner la valeurs des arguments de retour de fonctions\n",
    "L,U = LU(A)\n",
    "print(\"L=\",L)\n",
    "print(\"U=\",U)\n",
    "#print(A-L.dot(U))"
   ]
  },
  {
   "cell_type": "markdown",
   "metadata": {},
   "source": [
    "## 2) Algorithme de factorisation LU avec stratégie de pivot partiel"
   ]
  },
  {
   "cell_type": "markdown",
   "metadata": {},
   "source": [
    "On passe maintenant à la factorisation LU avec la stratégie de pivot partiel. Cette méthode met en place, durant le pivot de Gauss, des permutations sur les lignes qui permettent de diminuer les erreurs numériques et de parer au problème d'un pivot nul. Ces permutations sur les lignes vont faire en sorte que le pivot dans la méthode de Gauss est toujours le plus grand possible. En pratique, à chaque étape $k$, lors du choix du pivot, on va chercher dans la colonne $k$ le plus grand pivot (en valeur absolue) puis on va procèder à une permutation entre la ligne de ce pivot et la ligne $k$. Plus précisément, la factorisation LU avec permutations peut se résumer à l'algorithme suivant\n",
    "\n",
    "$$\n",
    "A^{(0)} = A\\in M_n(\\mathbb{R}),\\\\\n",
    "L^{(0)} = 0\\in M_n(\\mathbb{R}),\\\\\n",
    "P^{(0)} = \\textrm{Id}\\in M_n(\\mathbb{R}),\\\\\n",
    "\\textrm{Pour}\\; k = 0,1,2,\\cdots,n-1:\\;\n",
    "\\left\\{\\begin{array}{ll}\n",
    "m = \\textrm{argmax}_{k\\leq j \\leq n} |a_{j,k}^{(k)}|\\\\\n",
    "Q^{k,m} = \\textrm{Matrice de permutation des indices $k$ et $m$}\\\\\n",
    "P^{(k+1)} = Q^{k,m}P^{(k)},\\\\\n",
    "L^{(k+1/2)} = Q^{k,m}L^{(k)},\\\\\n",
    "A^{(k+1/2)} = Q^{k,m}A^{(k)},\\\\\n",
    "\\ell^{(k)} = \\left\\{\\begin{array}{ll}\n",
    "0,\\;\\textrm{pour}\\;1\\leq i\\leq k-1,\\\\\n",
    "\\frac{a_{i,k}^{(k+1/2)}}{a_{k,k}^{(k+1/2)}},\\;\\textrm{pour}\\;k\\leq i\\leq n,\n",
    "\\end{array}\\right.\\\\\n",
    "L^{(k+1)}_{i,j} = \\left\\{\\begin{array}{ll}\n",
    "\\ell^{(k)}_i,\\; \\textrm{pour}\\; j = k\\;\\textrm{et}\\; k\\leq i\\leq n,\n",
    "\\\\ L^{(k+1/2)}_{i,j}\\; \\textrm{sinon},\n",
    "\\end{array}\\right.\\\\\n",
    "B^{(k)}_{i,j} = \\left\\{\\begin{array}{ll}\n",
    "\\ell^{(k)}_{i} a^{(k+1/2)}_{k,j},\\; \\textrm{pour}\\; k+1\\leq i\\leq n \\;\\textrm{et}\\; k\\leq j\\leq n,\n",
    "\\\\ 0\\; \\textrm{sinon},\n",
    "\\end{array}\\right.,\\\\\n",
    "A^{(k+1)} = A^{(k+1/2)} - B^{(k)},\\\\\n",
    "\\end{array}\\right.\n",
    "$$\n",
    "\n",
    "A la fin de cette algorithme, on obtient $L = L^{(n-1)}$, $U = A^{(n-1)}$ et $P = P^{(n-1)}$. La matrice de permutation n'a pas vraiment besoin d'être assemblée, on pourra simplement écrire une fonction `Permut` qui prendra en argument une matrice et le couple d'indice et donnera en sortie la matrice avec ses lignes permutées. Afin d'identifier l'indice du plus grand pivot, on pourra s'aider de la fonction `argmax`. On rappelle de plus que, pour une matrice de permutation $P$, on a\n",
    "\n",
    "$$\n",
    "P^{-1} = P^T.\n",
    "$$"
   ]
  },
  {
   "cell_type": "markdown",
   "metadata": {},
   "source": [
    "> **A faire :** Implémenter la fonction `PLU` qui permet de calculer la factorisation LU d'une matrice $A$ carré de dimension quelconque à partir de l'algorithme précédent. On prendra soin de vérifier si le pivot est non-nul et, dans le cas contraire, on renverra une erreur à l'utilisateur. On pourra tester la fonction sur la matrice\n",
    "$$\n",
    "A = \\left(\\begin{array}{ccc}\n",
    "1 & 1 & 1 & 1 \\\\\n",
    "1 & 1 & 3 & 3 \\\\\n",
    "1 & 1 & 2 & 3\\\\\n",
    "1 & 3 & 3 & 3\n",
    "\\end{array}\\right),\n",
    "$$\n",
    "dont la décomposition PLU est donnée par\n",
    "$$\n",
    "P = \\left(\\begin{array}{ccc}\n",
    "1 & 0 & 0 & 0\\\\\n",
    "0 & 0 & 0 & 1\\\\\n",
    "0 & 1 & 0 & 0\\\\\n",
    "0 & 0 & 1 & 0\n",
    "\\end{array}\\right),\\quad L = \\left(\\begin{array}{ccc}\n",
    "1 & 0 & 0 & 0\\\\\n",
    "1 & 1 & 0 & 0\\\\\n",
    "1 & 0 & 1 & 0\\\\\n",
    "1 & 0 & 1/2 & 1\n",
    "\\end{array}\\right)\\quad\\textrm{et}\\quad U = \\left(\\begin{array}{ccc}\n",
    "1 & 1 & 1 & 1\\\\\n",
    "0 & 2 & 2 & 2\\\\\n",
    "0 & 0 & 2 & 2\\\\\n",
    "0 & 0 & 0 & 1\n",
    "\\end{array}\\right).\n",
    "$$"
   ]
  },
  {
   "cell_type": "code",
   "execution_count": 5,
   "metadata": {},
   "outputs": [],
   "source": [
    "#echange les lignes\n",
    "def Permut(A,i,j):\n",
    "#prend tout la colonne k et toutes les lignes à partir de la k ième:(tout dans le même crochet)\n",
    "#verification lu: PA-LU=0 si c'est ok \n",
    "#Produit matrciel: utiliser np.dot\n",
    "    n=len(A)\n",
    "    B = np.copy(A)\n",
    "    B[i] = A[j].copy()\n",
    "    B[j] = A[i].copy()\n",
    "    return B\n",
    "    \n",
    "def PLU(A):\n",
    "    n=len(A)\n",
    "    L=np.zeros((n,n))\n",
    "    l=np.zeros(n)\n",
    "    B=np.zeros((n,n))\n",
    "    U=np.zeros((n,n))\n",
    "    P=np.identity(n)\n",
    "    m=0\n",
    "    for k in range(0,n):\n",
    "        m=k+np.argmax(abs(A[k:,k]))\n",
    "        A=Permut(A,k,m)\n",
    "        L=Permut(L,k,m)\n",
    "        P=Permut(P,k,m)\n",
    "        for j in range(k-1,n):\n",
    "            for i in range(k,n):\n",
    "                if A[k][k]==0:\n",
    "                    raise Exception(\"PivotNul\")\n",
    "                if j==k:\n",
    "                    L[i][j]=l[i]\n",
    "                l[i]=A[i][k]/A[k][k]\n",
    "                for p in range(k,n):\n",
    "                    for i2 in range(k+1,n):\n",
    "                        B[i2][p]=l[i2]*A[k][p]\n",
    "            A=A-B\n",
    "    U=A\n",
    "    return P,L,U\n",
    "\n",
    "def PLU(A):\n",
    "    n=len(A)\n",
    "    L=np.zeros((n,n))\n",
    "    U=np.copy(A)\n",
    "    P=np.identity(n)\n",
    "    for k in range(0,n):\n",
    "        m=k+np.argmax(abs(U[k:,k]))\n",
    "        U=Permut(U,k,m)\n",
    "        L=Permut(L,k,m)\n",
    "        P=Permut(P,k,m)\n",
    "        if U[k][k]==0:\n",
    "            raise Exception(\"PivotNul\")\n",
    "        l=np.zeros(n)\n",
    "        #for i in range(k,n):\n",
    "        #    l[i]=U[i][k]/U[k][k]\n",
    "        l[k:]=U[k:,k]/U[k,k]\n",
    "        L[k:,k] = l[k:]\n",
    "        B=np.zeros((n,n))\n",
    "        for p in range(k,n):\n",
    "            for i2 in range(k+1,n):\n",
    "                B[i2][p]=l[i2]*U[k][p]\n",
    "        U=U-B\n",
    "    return P,L,U"
   ]
  },
  {
   "cell_type": "code",
   "execution_count": 6,
   "metadata": {},
   "outputs": [
    {
     "name": "stdout",
     "output_type": "stream",
     "text": [
      "P= [[1. 0. 0. 0.]\n",
      " [0. 0. 0. 1.]\n",
      " [0. 1. 0. 0.]\n",
      " [0. 0. 1. 0.]]\n",
      "L= [[1.  0.  0.  0. ]\n",
      " [1.  1.  0.  0. ]\n",
      " [1.  0.  1.  0. ]\n",
      " [1.  0.  0.5 1. ]]\n",
      "U= [[1. 1. 1. 1.]\n",
      " [0. 2. 2. 2.]\n",
      " [0. 0. 2. 2.]\n",
      " [0. 0. 0. 1.]]\n",
      "[[0. 0. 0. 0.]\n",
      " [0. 0. 0. 0.]\n",
      " [0. 0. 0. 0.]\n",
      " [0. 0. 0. 0.]]\n",
      "[[1 1 1 1]\n",
      " [1 1 3 3]\n",
      " [1 1 2 3]\n",
      " [1 3 3 3]]\n"
     ]
    }
   ],
   "source": [
    "A = np.array([[1,1,1,1],[1,1,3,3],[1,1,2,3],[1,3,3,3]])\n",
    "P,L,U = PLU(A)\n",
    "print(\"P=\",P)\n",
    "print(\"L=\",L)\n",
    "print(\"U=\",U)\n",
    "print(np.dot(P,A)-np.dot(L,U)) #pour vérification\n",
    "print(A)"
   ]
  },
  {
   "cell_type": "markdown",
   "metadata": {},
   "source": [
    "## 3) Résolution de systèmes triangulaires et comparaison des méthodes"
   ]
  },
  {
   "cell_type": "markdown",
   "metadata": {},
   "source": [
    "Nous allons à présent comparer les 2 méthodes que nous venons d'implémenter. Le but est de tester ces méthodes sur un système linéaire. Or, on sait que pour résoudre un tel système il faut passer par la résolution de systèmes triangulaires (supérieurs et inférieurs). Ainsi, avant de passer à la suite, on se propose d'implémenter une méthode permettant de résoudre un système triangulaire, qu'il soit inférieur ou supérieur.\n",
    "\n",
    "On rappelle que l'algorithme de résolution pour un système triangulaire de la forme\n",
    "\n",
    "$$\n",
    "Tx = b,\n",
    "$$\n",
    "\n",
    "s'écrit, si $T$ est triangulaire inférieure,\n",
    "\n",
    "$$\n",
    "x_1 = b_1/T_{1,1}\\\\\n",
    "\\textrm{Pour}\\; k = 2,3,\\cdots, n\\; :\n",
    "x _k = \\left(b_k - \\sum_{j = 1}^{k-1} T_{k,j} x_j\\right)/T_{k,k},\n",
    "$$\n",
    "\n",
    "et, si $T$ est triangulaire supérieure,\n",
    "\n",
    "$$\n",
    "x_n = b_n/T_{n,n}\\\\\n",
    "\\textrm{Pour}\\; k = n-1,n-2,\\cdots, 1\\; :\n",
    "x _k = \\left(b_k - \\sum_{j = k+1}^{n} T_{k,j} x_j\\right)/T_{k,k}.\n",
    "$$\n",
    "\n",
    "> **A faire :** Implémenter la fonction `Solve_Triang` qui permet de résoudre un système linéaire triangulaire (inférieur ou supérieur). Cette fonction prendra en entrée une matrice et un vecteur (correspondant aux données du système linéaire) ainsi qu'une variable précisant si le système est triangulaire supérieur ou inférieur et donnera en sortie un vecteur qui est la solution que l'on cherche."
   ]
  },
  {
   "cell_type": "code",
   "execution_count": 7,
   "metadata": {},
   "outputs": [],
   "source": [
    "def Solve_Triang(T,b,s = 0):\n",
    "    n=len(T)\n",
    "    x=np.zeros(n)\n",
    "    if s==0:\n",
    "        x[0]=b[0]/T[0][0]\n",
    "        for k in range(1,n):\n",
    "            somme=0\n",
    "            for j in range(0,k):\n",
    "                somme=somme+T[k][j]*x[j]\n",
    "            x[k]=(b[k]-somme)/T[k][k]\n",
    "    else:\n",
    "        for k in range(n-1,-1,-1):\n",
    "            somme=0\n",
    "            for j in range(n-1,k,-1):\n",
    "                somme=somme+T[k][j]*x[j]\n",
    "            x[k]=(b[k]-somme)/T[k][k]\n",
    "    return x\n"
   ]
  },
  {
   "cell_type": "markdown",
   "metadata": {},
   "source": [
    "On a charger, en début de ce notebook, la matrice $M$ de taille 100. A l'aide des deux méthodes de factorisation et de la méthode de résolution d'un système triangulaire, vous allez résoudre le système linéaire\n",
    "\n",
    "$$\n",
    "Mx = b,\n",
    "$$\n",
    "\n",
    "où $b\\in\\mathbb{R}^{100}$ est tel que $b_i = 1$, pour tout $1\\leq i\\leq n$.\n",
    "\n",
    "> **A faire :** Résoudre le système précédent à l'aide de la factorisation LU standard et celle avec permutations. Comparer les résultats obtenus avec la solution obtenue avec `npl.solve(M,b)`. Quelle méthode donne le meilleur résultat?"
   ]
  },
  {
   "cell_type": "code",
   "execution_count": 8,
   "metadata": {},
   "outputs": [
    {
     "name": "stdout",
     "output_type": "stream",
     "text": [
      "[ 1.26709391e-02  7.92944712e-03  1.36956084e-02  7.72348653e-03\n",
      " -1.36187698e-02 -6.49516613e-03  2.18949164e-03  5.23534824e-04\n",
      "  8.32724079e-03  4.69173983e-03 -1.35230632e-03  1.06748543e-02\n",
      "  8.20833915e-03 -2.46004170e-03  7.33792724e-03  3.97266892e-03\n",
      "  1.30969941e-03  4.68042590e-03 -6.31025062e-03  7.56354613e-04\n",
      "  2.73711753e-03 -1.34304910e-05  4.58420441e-03  1.15648657e-03\n",
      "  4.77128392e-03  9.64477290e-04 -2.64923224e-04 -8.47487391e-03\n",
      " -1.61838492e-02 -1.68434262e-02  3.17354401e-03  5.53955753e-03\n",
      "  3.74308209e-03 -3.21467109e-03 -4.03371293e-03  7.90209841e-04\n",
      "  3.21307545e-03  7.46660256e-03 -4.86634536e-03 -6.79164824e-03\n",
      "  3.01622380e-03 -3.17423586e-03  5.53100448e-03  1.30955230e-02\n",
      "  7.45641395e-05 -2.79039148e-03  8.13220100e-03  3.37058812e-03\n",
      " -1.77546624e-03 -6.78222235e-03 -5.65585840e-03 -4.45914194e-03\n",
      " -1.03719223e-03 -9.22282549e-04 -5.62829031e-04 -8.07555165e-03\n",
      " -5.71828948e-03  2.36033459e-03  2.42439076e-04  4.81056900e-03\n",
      " -4.52840858e-04  3.91658207e-03  9.77450062e-03  3.34767234e-03\n",
      "  8.36576086e-04  4.98032205e-03  9.13221934e-03  1.24858604e-02\n",
      "  1.52679376e-03 -5.45137930e-03 -5.67056373e-03 -1.44425717e-02\n",
      "  4.60159010e-03  9.31876377e-03 -4.70778773e-03  1.37821278e-03\n",
      "  8.86829432e-04  2.27371556e-03 -2.43002186e-03 -1.27160890e-02\n",
      " -2.67073837e-03  3.07336013e-04 -1.42700144e-03  6.96116974e-03\n",
      "  3.13426594e-03  5.00931719e-03  3.18425655e-03  6.65904716e-03\n",
      "  3.18549838e-03 -2.97449555e-03 -1.85648902e-03  5.18951321e-03\n",
      "  7.25025389e-03  1.74754863e-03 -3.43445667e-03  2.81949478e-03\n",
      "  1.20176578e-02 -6.35220405e-03 -2.28155844e-03  4.39316183e-03]\n",
      "[ 1.58150359e+01  8.82987570e+00 -5.57314995e+00  1.10484907e+01\n",
      " -3.79337136e+00  2.26540904e+00 -5.12183597e-02  1.21370384e+01\n",
      "  1.09104124e+01 -5.06784746e+00  7.63654861e+00  1.01831260e+01\n",
      " -9.88229324e+00 -4.42060285e-01  8.03696514e+00  3.70173749e+00\n",
      "  2.30026742e+00  2.45569037e+01  5.81363346e+00 -5.54413557e+00\n",
      " -1.20372688e+01 -1.12342715e+01  4.11861666e+00 -1.15889356e+01\n",
      " -1.30402839e+01  1.57991668e+00 -1.07336285e+01  3.90113475e+00\n",
      " -7.46850864e+00 -3.80667986e+00  2.18713776e+00 -6.19995574e+00\n",
      "  5.71154980e+00  4.34974078e+00  8.91037444e+00 -4.19265245e+00\n",
      " -2.00807208e+01 -6.10030478e+00 -1.00720624e+01 -5.23390414e+00\n",
      "  8.79695993e+00  2.53718147e+00  5.16970705e+00  3.93037791e+00\n",
      " -3.07881230e+00 -2.88945969e+00  2.24550276e+00  1.21026476e+00\n",
      " -1.29400754e+01 -1.58143100e+00 -1.05030767e+00 -6.54123126e+00\n",
      " -9.86702733e+00 -2.55178932e+00  9.01851296e+00 -3.70778036e+00\n",
      "  3.65622610e+00  3.41337017e+00 -6.15490125e+00 -3.11534391e+01\n",
      "  4.72374695e+00 -3.57742942e+00 -1.70623331e+00  7.35017230e+00\n",
      " -8.58711343e+00  1.14318460e+01  1.92086055e+01  2.65372674e+00\n",
      " -2.01432532e+00  6.68174577e+00  3.64866250e-01 -3.15460152e-01\n",
      " -6.55755870e-01  4.61545205e-01 -6.00517386e-01 -7.53105874e-01\n",
      "  1.05659543e-01  3.71753257e-01  2.17968144e-02 -7.74426859e-01\n",
      "  5.10592449e-01  5.76208657e-01 -1.93922014e-01  1.03484073e-01\n",
      "  2.60556124e-01 -7.08448866e-02  4.95889627e-01  2.15725767e-01\n",
      "  1.08747289e-01  3.18305199e-02 -6.87402862e-01  4.65139895e-01\n",
      " -6.97158891e-01  5.53392028e-02  7.09746078e-02  4.15762548e-01\n",
      " -9.93151803e-03  9.90475411e-05  2.02256912e-03  7.90422597e-03]\n",
      "[ 1.26709391e-02  7.92944712e-03  1.36956084e-02  7.72348653e-03\n",
      " -1.36187698e-02 -6.49516613e-03  2.18949164e-03  5.23534824e-04\n",
      "  8.32724079e-03  4.69173983e-03 -1.35230632e-03  1.06748543e-02\n",
      "  8.20833915e-03 -2.46004170e-03  7.33792724e-03  3.97266892e-03\n",
      "  1.30969941e-03  4.68042590e-03 -6.31025062e-03  7.56354613e-04\n",
      "  2.73711753e-03 -1.34304910e-05  4.58420441e-03  1.15648657e-03\n",
      "  4.77128392e-03  9.64477290e-04 -2.64923224e-04 -8.47487391e-03\n",
      " -1.61838492e-02 -1.68434262e-02  3.17354401e-03  5.53955753e-03\n",
      "  3.74308209e-03 -3.21467109e-03 -4.03371293e-03  7.90209841e-04\n",
      "  3.21307545e-03  7.46660256e-03 -4.86634536e-03 -6.79164824e-03\n",
      "  3.01622380e-03 -3.17423586e-03  5.53100448e-03  1.30955230e-02\n",
      "  7.45641396e-05 -2.79039148e-03  8.13220100e-03  3.37058812e-03\n",
      " -1.77546624e-03 -6.78222235e-03 -5.65585840e-03 -4.45914194e-03\n",
      " -1.03719223e-03 -9.22282549e-04 -5.62829031e-04 -8.07555165e-03\n",
      " -5.71828948e-03  2.36033459e-03  2.42439076e-04  4.81056900e-03\n",
      " -4.52840858e-04  3.91658207e-03  9.77450062e-03  3.34767234e-03\n",
      "  8.36576086e-04  4.98032205e-03  9.13221934e-03  1.24858604e-02\n",
      "  1.52679376e-03 -5.45137930e-03 -5.67056373e-03 -1.44425717e-02\n",
      "  4.60159010e-03  9.31876377e-03 -4.70778773e-03  1.37821278e-03\n",
      "  8.86829432e-04  2.27371556e-03 -2.43002186e-03 -1.27160890e-02\n",
      " -2.67073837e-03  3.07336013e-04 -1.42700144e-03  6.96116974e-03\n",
      "  3.13426594e-03  5.00931719e-03  3.18425655e-03  6.65904716e-03\n",
      "  3.18549838e-03 -2.97449555e-03 -1.85648902e-03  5.18951321e-03\n",
      "  7.25025389e-03  1.74754863e-03 -3.43445667e-03  2.81949478e-03\n",
      "  1.20176578e-02 -6.35220404e-03 -2.28155844e-03  4.39316183e-03]\n"
     ]
    }
   ],
   "source": [
    "b = np.ones(100)\n",
    "L,U=LU(M)\n",
    "y=Solve_Triang(L,b)\n",
    "x=Solve_Triang(U,y,1)\n",
    "print(x)\n",
    "P,L1,U1=PLU(M)\n",
    "y1=Solve_Triang(L1,P.dot(b))\n",
    "x1=Solve_Triang(U1,y,1)\n",
    "print(x1)\n",
    "print(npl.solve(M,b))\n",
    "#PLU est plus efficace que LU"
   ]
  },
  {
   "cell_type": "code",
   "execution_count": 9,
   "metadata": {},
   "outputs": [
    {
     "name": "stdout",
     "output_type": "stream",
     "text": [
      "[1. 0.] [1. 0.]\n"
     ]
    }
   ],
   "source": [
    "A = np.array([[1,0],[1,2]])\n",
    "b =np.ones(2)\n",
    "x = npl.solve(A,b)\n",
    "xtr = Solve_Triang(A,b,0)\n",
    "print(x,xtr)"
   ]
  },
  {
   "cell_type": "code",
   "execution_count": null,
   "metadata": {},
   "outputs": [],
   "source": []
  }
 ],
 "metadata": {
  "kernelspec": {
   "display_name": "Python 3",
   "language": "python",
   "name": "python3"
  },
  "language_info": {
   "codemirror_mode": {
    "name": "ipython",
    "version": 3
   },
   "file_extension": ".py",
   "mimetype": "text/x-python",
   "name": "python",
   "nbconvert_exporter": "python",
   "pygments_lexer": "ipython3",
   "version": "3.7.4"
  }
 },
 "nbformat": 4,
 "nbformat_minor": 1
}
